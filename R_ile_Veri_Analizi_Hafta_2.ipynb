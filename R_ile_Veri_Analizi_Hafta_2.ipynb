{
  "nbformat": 4,
  "nbformat_minor": 0,
  "metadata": {
    "colab": {
      "provenance": [],
      "authorship_tag": "ABX9TyMfPwWVLPLu3FI2vaK50B6Y",
      "include_colab_link": true
    },
    "kernelspec": {
      "name": "ir",
      "display_name": "R"
    },
    "language_info": {
      "name": "R"
    }
  },
  "cells": [
    {
      "cell_type": "markdown",
      "metadata": {
        "id": "view-in-github",
        "colab_type": "text"
      },
      "source": [
        "<a href=\"https://colab.research.google.com/github/onderyilmaz4/Compec-R-ile-Veri-Analizi/blob/main/R_ile_Veri_Analizi_Hafta_2.ipynb\" target=\"_parent\"><img src=\"https://colab.research.google.com/assets/colab-badge.svg\" alt=\"Open In Colab\"/></a>"
      ]
    },
    {
      "cell_type": "markdown",
      "source": [],
      "metadata": {
        "id": "5GnWK7tly5gS"
      }
    },
    {
      "cell_type": "code",
      "source": [
        "install.packages(\"LearnBayes\")\n",
        "library(LearnBayes)"
      ],
      "metadata": {
        "colab": {
          "base_uri": "https://localhost:8080/"
        },
        "id": "CutPReBey54i",
        "outputId": "353f708a-34f3-41b9-f000-f6d7f5df215f"
      },
      "execution_count": null,
      "outputs": [
        {
          "output_type": "stream",
          "name": "stderr",
          "text": [
            "Installing package into ‘/usr/local/lib/R/site-library’\n",
            "(as ‘lib’ is unspecified)\n",
            "\n"
          ]
        }
      ]
    },
    {
      "cell_type": "code",
      "source": [
        "View(studentdata)"
      ],
      "metadata": {
        "colab": {
          "base_uri": "https://localhost:8080/",
          "height": 1000
        },
        "id": "9_0eIzqN74tH",
        "outputId": "991e04fe-1bad-4d45-d9a3-c9b2863a2691"
      },
      "execution_count": null,
      "outputs": [
        {
          "output_type": "display_data",
          "data": {
            "text/plain": [
              "    Student Height Gender Shoes Number Dvds  ToSleep WakeUp Haircut Job  Drink\n",
              "1    1      67.0   female  10    5      10   -2.5     5.5    60.0   30.0 water\n",
              "2    2      64.0   female  20    7       5    1.5     8.0     0.0   20.0 pop  \n",
              "3    3      61.0   female  12    2       6   -1.5     7.5    48.0    0.0 milk \n",
              "4    4      61.0   female   3    6      40    2.0     8.5    10.0    0.0 water\n",
              "5    5      70.0   male     4    5       6    0.0     9.0    15.0   17.5 pop  \n",
              "6    6      63.0   female  NA    3       5    1.0     8.5    25.0    0.0 water\n",
              "7    7      61.0   female  12    3      53    1.5     7.5    35.0   20.0 water\n",
              "8    8      64.0   female  25    4      20    0.5     7.5    25.0    0.0 pop  \n",
              "9    9      66.0   female  30    3      40   -0.5     7.0    30.0   25.0 water\n",
              "10  10      65.0   male    10    7      22    2.5     8.5    12.0    0.0 milk \n",
              "11  11      72.0   male     5    7       6    0.0     6.5    13.0   15.0 milk \n",
              "12  12      63.0   female  20    4      60   -1.0     7.0    38.0    0.0 water\n",
              "13  13      67.0   female  NA    7       0    2.5     6.5    35.0   12.0 pop  \n",
              "14  14      63.5   female  20    6       3   -1.0     7.5   110.0   27.0 milk \n",
              "15  15      72.0   male     5   NA      83    2.5     8.5    15.0   28.0 pop  \n",
              "16  16      65.0   female  40    7      50   -0.5     7.0    15.0    0.0 water\n",
              "17  17      62.0   female   8    7      NA    0.0     8.5    40.0    0.0 water\n",
              "18  18      66.0   male     3    7      20    2.5     8.0    13.0    0.0 pop  \n",
              "19  19      71.0   male     6    7       0    0.5     7.5    12.0   12.5 water\n",
              "20  20      64.0   female   4    7       8   -1.5     7.5    30.0   16.0 water\n",
              "21  21      71.0   male     9    7      12    1.5     8.0     0.0   12.0 water\n",
              "22  22      61.0   female  20    5      10    1.5     7.5    20.0    5.0 water\n",
              "23  23      56.0   female 164    8       5    1.0     8.0    40.0   12.5 water\n",
              "24  24      71.0   male    11    3      13    2.0    10.0    12.0   20.0 milk \n",
              "25  25      63.0   female  15    3     100    0.0     9.0    50.0   12.5 pop  \n",
              "26  26      65.0   female   5    8      10   -0.5     6.0    10.0   22.0 water\n",
              "27  27      68.0   male     9    7       2    0.5     8.0    10.0     NA water\n",
              "28  28      64.0   female  15    3       7    1.5    10.0    65.0   15.0 pop  \n",
              "29  29      59.0   female  25    6      10    0.5     8.5    25.0    0.0 water\n",
              "30  30      61.5   female  25    7      52    1.5     8.5    87.6    0.0 water\n",
              "⋮   ⋮       ⋮      ⋮      ⋮     ⋮      ⋮     ⋮       ⋮      ⋮       ⋮    ⋮    \n",
              "628 628     64.00  female 10    5       15.0  2.0     8.0    0.00    6.0 pop  \n",
              "629 629     65.00  male    5    7        5.0  3.0    11.5   12.00   12.5 water\n",
              "630 630     71.00  male    6    9      200.0  1.5     8.5   11.00   14.0 milk \n",
              "631 631     71.00  male    4    4       50.0 -0.5    12.0   14.00   16.0 pop  \n",
              "632 632     70.00  male    6    4       40.0  1.5     9.0    0.00    0.0 water\n",
              "633 633     71.00  male    4    7       27.5  0.5     8.5   17.00   15.0 pop  \n",
              "634 634     67.00  female 28    2       10.0  2.0     9.0    0.00   13.0 water\n",
              "635 635     61.00  female 20    8       18.0  0.5     8.0   75.00    9.0 water\n",
              "636 636     67.00  female  7    6        3.0 -1.0     8.0   20.00    0.0 milk \n",
              "637 637     64.00  female 10    4       15.0  0.5     8.0   14.95   11.0 water\n",
              "638 638     67.00  female 12    8       13.0  4.0     9.0   40.00    0.0 water\n",
              "639 639     66.50  female 13    5       48.0  2.5     9.0   15.00   20.0 water\n",
              "640 640     61.00  female  5    7       10.0  0.0     8.5      NA   10.0 water\n",
              "641 641     63.00  female 10    3        6.0  1.5    11.0   11.00    0.0 water\n",
              "642 642     66.00  female 24    3       12.0 -1.0     8.0   30.00   20.0 water\n",
              "643 643     57.75  female 40    7       10.0  0.0     6.8   10.00   17.5 water\n",
              "644 644     66.00  female 15    8       15.0  0.5    10.0    7.00   15.0 pop  \n",
              "645 645     64.00  female 25    5        1.0  1.5    12.5   25.00    0.0 pop  \n",
              "646 646     68.00  female 20    7       30.0  2.0     8.5   25.00   12.5 pop  \n",
              "647 647     67.00  female 10    3        2.0  0.0     7.0   35.00   10.0 pop  \n",
              "648 648     68.00  female  8    7        3.0 -0.5     7.5    0.00   20.0 water\n",
              "649 649     65.00  female 15    5       60.0  4.5    11.0   25.00   25.0 pop  \n",
              "650 650     74.00  male    4    2       70.0  1.5     6.5   20.00    7.0 water\n",
              "651 651     72.00  male    7    7       40.0  3.5    12.5   15.00   10.0 milk \n",
              "652 652     68.00  female 30    6        4.0  0.5     9.5   20.00   15.0 water\n",
              "653 653     71.00  female 15    8       25.0 -1.0     9.0    0.00    0.0 water\n",
              "654 654     66.00  female 25    5        1.0 -1.5     9.0    0.00   12.0 pop  \n",
              "655 655     67.00  female 10    7       10.0  0.0     9.5    0.00   10.0 pop  \n",
              "656 656     68.00  male    3    5       15.0  2.5     7.7   15.00   20.0 pop  \n",
              "657 657     69.00  male    4    6       20.0  3.5    11.5    0.00     NA water"
            ],
            "text/html": [
              "<table class=\"dataframe\">\n",
              "<caption>A data.frame: 657 × 11</caption>\n",
              "<thead>\n",
              "\t<tr><th scope=col>Student</th><th scope=col>Height</th><th scope=col>Gender</th><th scope=col>Shoes</th><th scope=col>Number</th><th scope=col>Dvds</th><th scope=col>ToSleep</th><th scope=col>WakeUp</th><th scope=col>Haircut</th><th scope=col>Job</th><th scope=col>Drink</th></tr>\n",
              "\t<tr><th scope=col>&lt;int&gt;</th><th scope=col>&lt;dbl&gt;</th><th scope=col>&lt;fct&gt;</th><th scope=col>&lt;dbl&gt;</th><th scope=col>&lt;int&gt;</th><th scope=col>&lt;dbl&gt;</th><th scope=col>&lt;dbl&gt;</th><th scope=col>&lt;dbl&gt;</th><th scope=col>&lt;dbl&gt;</th><th scope=col>&lt;dbl&gt;</th><th scope=col>&lt;fct&gt;</th></tr>\n",
              "</thead>\n",
              "<tbody>\n",
              "\t<tr><td> 1</td><td>67.0</td><td>female</td><td> 10</td><td> 5</td><td> 10</td><td>-2.5</td><td> 5.5</td><td> 60.0</td><td>30.0</td><td>water</td></tr>\n",
              "\t<tr><td> 2</td><td>64.0</td><td>female</td><td> 20</td><td> 7</td><td>  5</td><td> 1.5</td><td> 8.0</td><td>  0.0</td><td>20.0</td><td>pop  </td></tr>\n",
              "\t<tr><td> 3</td><td>61.0</td><td>female</td><td> 12</td><td> 2</td><td>  6</td><td>-1.5</td><td> 7.5</td><td> 48.0</td><td> 0.0</td><td>milk </td></tr>\n",
              "\t<tr><td> 4</td><td>61.0</td><td>female</td><td>  3</td><td> 6</td><td> 40</td><td> 2.0</td><td> 8.5</td><td> 10.0</td><td> 0.0</td><td>water</td></tr>\n",
              "\t<tr><td> 5</td><td>70.0</td><td>male  </td><td>  4</td><td> 5</td><td>  6</td><td> 0.0</td><td> 9.0</td><td> 15.0</td><td>17.5</td><td>pop  </td></tr>\n",
              "\t<tr><td> 6</td><td>63.0</td><td>female</td><td> NA</td><td> 3</td><td>  5</td><td> 1.0</td><td> 8.5</td><td> 25.0</td><td> 0.0</td><td>water</td></tr>\n",
              "\t<tr><td> 7</td><td>61.0</td><td>female</td><td> 12</td><td> 3</td><td> 53</td><td> 1.5</td><td> 7.5</td><td> 35.0</td><td>20.0</td><td>water</td></tr>\n",
              "\t<tr><td> 8</td><td>64.0</td><td>female</td><td> 25</td><td> 4</td><td> 20</td><td> 0.5</td><td> 7.5</td><td> 25.0</td><td> 0.0</td><td>pop  </td></tr>\n",
              "\t<tr><td> 9</td><td>66.0</td><td>female</td><td> 30</td><td> 3</td><td> 40</td><td>-0.5</td><td> 7.0</td><td> 30.0</td><td>25.0</td><td>water</td></tr>\n",
              "\t<tr><td>10</td><td>65.0</td><td>male  </td><td> 10</td><td> 7</td><td> 22</td><td> 2.5</td><td> 8.5</td><td> 12.0</td><td> 0.0</td><td>milk </td></tr>\n",
              "\t<tr><td>11</td><td>72.0</td><td>male  </td><td>  5</td><td> 7</td><td>  6</td><td> 0.0</td><td> 6.5</td><td> 13.0</td><td>15.0</td><td>milk </td></tr>\n",
              "\t<tr><td>12</td><td>63.0</td><td>female</td><td> 20</td><td> 4</td><td> 60</td><td>-1.0</td><td> 7.0</td><td> 38.0</td><td> 0.0</td><td>water</td></tr>\n",
              "\t<tr><td>13</td><td>67.0</td><td>female</td><td> NA</td><td> 7</td><td>  0</td><td> 2.5</td><td> 6.5</td><td> 35.0</td><td>12.0</td><td>pop  </td></tr>\n",
              "\t<tr><td>14</td><td>63.5</td><td>female</td><td> 20</td><td> 6</td><td>  3</td><td>-1.0</td><td> 7.5</td><td>110.0</td><td>27.0</td><td>milk </td></tr>\n",
              "\t<tr><td>15</td><td>72.0</td><td>male  </td><td>  5</td><td>NA</td><td> 83</td><td> 2.5</td><td> 8.5</td><td> 15.0</td><td>28.0</td><td>pop  </td></tr>\n",
              "\t<tr><td>16</td><td>65.0</td><td>female</td><td> 40</td><td> 7</td><td> 50</td><td>-0.5</td><td> 7.0</td><td> 15.0</td><td> 0.0</td><td>water</td></tr>\n",
              "\t<tr><td>17</td><td>62.0</td><td>female</td><td>  8</td><td> 7</td><td> NA</td><td> 0.0</td><td> 8.5</td><td> 40.0</td><td> 0.0</td><td>water</td></tr>\n",
              "\t<tr><td>18</td><td>66.0</td><td>male  </td><td>  3</td><td> 7</td><td> 20</td><td> 2.5</td><td> 8.0</td><td> 13.0</td><td> 0.0</td><td>pop  </td></tr>\n",
              "\t<tr><td>19</td><td>71.0</td><td>male  </td><td>  6</td><td> 7</td><td>  0</td><td> 0.5</td><td> 7.5</td><td> 12.0</td><td>12.5</td><td>water</td></tr>\n",
              "\t<tr><td>20</td><td>64.0</td><td>female</td><td>  4</td><td> 7</td><td>  8</td><td>-1.5</td><td> 7.5</td><td> 30.0</td><td>16.0</td><td>water</td></tr>\n",
              "\t<tr><td>21</td><td>71.0</td><td>male  </td><td>  9</td><td> 7</td><td> 12</td><td> 1.5</td><td> 8.0</td><td>  0.0</td><td>12.0</td><td>water</td></tr>\n",
              "\t<tr><td>22</td><td>61.0</td><td>female</td><td> 20</td><td> 5</td><td> 10</td><td> 1.5</td><td> 7.5</td><td> 20.0</td><td> 5.0</td><td>water</td></tr>\n",
              "\t<tr><td>23</td><td>56.0</td><td>female</td><td>164</td><td> 8</td><td>  5</td><td> 1.0</td><td> 8.0</td><td> 40.0</td><td>12.5</td><td>water</td></tr>\n",
              "\t<tr><td>24</td><td>71.0</td><td>male  </td><td> 11</td><td> 3</td><td> 13</td><td> 2.0</td><td>10.0</td><td> 12.0</td><td>20.0</td><td>milk </td></tr>\n",
              "\t<tr><td>25</td><td>63.0</td><td>female</td><td> 15</td><td> 3</td><td>100</td><td> 0.0</td><td> 9.0</td><td> 50.0</td><td>12.5</td><td>pop  </td></tr>\n",
              "\t<tr><td>26</td><td>65.0</td><td>female</td><td>  5</td><td> 8</td><td> 10</td><td>-0.5</td><td> 6.0</td><td> 10.0</td><td>22.0</td><td>water</td></tr>\n",
              "\t<tr><td>27</td><td>68.0</td><td>male  </td><td>  9</td><td> 7</td><td>  2</td><td> 0.5</td><td> 8.0</td><td> 10.0</td><td>  NA</td><td>water</td></tr>\n",
              "\t<tr><td>28</td><td>64.0</td><td>female</td><td> 15</td><td> 3</td><td>  7</td><td> 1.5</td><td>10.0</td><td> 65.0</td><td>15.0</td><td>pop  </td></tr>\n",
              "\t<tr><td>29</td><td>59.0</td><td>female</td><td> 25</td><td> 6</td><td> 10</td><td> 0.5</td><td> 8.5</td><td> 25.0</td><td> 0.0</td><td>water</td></tr>\n",
              "\t<tr><td>30</td><td>61.5</td><td>female</td><td> 25</td><td> 7</td><td> 52</td><td> 1.5</td><td> 8.5</td><td> 87.6</td><td> 0.0</td><td>water</td></tr>\n",
              "\t<tr><td>⋮</td><td>⋮</td><td>⋮</td><td>⋮</td><td>⋮</td><td>⋮</td><td>⋮</td><td>⋮</td><td>⋮</td><td>⋮</td><td>⋮</td></tr>\n",
              "\t<tr><td>628</td><td>64.00</td><td>female</td><td>10</td><td>5</td><td> 15.0</td><td> 2.0</td><td> 8.0</td><td> 0.00</td><td> 6.0</td><td>pop  </td></tr>\n",
              "\t<tr><td>629</td><td>65.00</td><td>male  </td><td> 5</td><td>7</td><td>  5.0</td><td> 3.0</td><td>11.5</td><td>12.00</td><td>12.5</td><td>water</td></tr>\n",
              "\t<tr><td>630</td><td>71.00</td><td>male  </td><td> 6</td><td>9</td><td>200.0</td><td> 1.5</td><td> 8.5</td><td>11.00</td><td>14.0</td><td>milk </td></tr>\n",
              "\t<tr><td>631</td><td>71.00</td><td>male  </td><td> 4</td><td>4</td><td> 50.0</td><td>-0.5</td><td>12.0</td><td>14.00</td><td>16.0</td><td>pop  </td></tr>\n",
              "\t<tr><td>632</td><td>70.00</td><td>male  </td><td> 6</td><td>4</td><td> 40.0</td><td> 1.5</td><td> 9.0</td><td> 0.00</td><td> 0.0</td><td>water</td></tr>\n",
              "\t<tr><td>633</td><td>71.00</td><td>male  </td><td> 4</td><td>7</td><td> 27.5</td><td> 0.5</td><td> 8.5</td><td>17.00</td><td>15.0</td><td>pop  </td></tr>\n",
              "\t<tr><td>634</td><td>67.00</td><td>female</td><td>28</td><td>2</td><td> 10.0</td><td> 2.0</td><td> 9.0</td><td> 0.00</td><td>13.0</td><td>water</td></tr>\n",
              "\t<tr><td>635</td><td>61.00</td><td>female</td><td>20</td><td>8</td><td> 18.0</td><td> 0.5</td><td> 8.0</td><td>75.00</td><td> 9.0</td><td>water</td></tr>\n",
              "\t<tr><td>636</td><td>67.00</td><td>female</td><td> 7</td><td>6</td><td>  3.0</td><td>-1.0</td><td> 8.0</td><td>20.00</td><td> 0.0</td><td>milk </td></tr>\n",
              "\t<tr><td>637</td><td>64.00</td><td>female</td><td>10</td><td>4</td><td> 15.0</td><td> 0.5</td><td> 8.0</td><td>14.95</td><td>11.0</td><td>water</td></tr>\n",
              "\t<tr><td>638</td><td>67.00</td><td>female</td><td>12</td><td>8</td><td> 13.0</td><td> 4.0</td><td> 9.0</td><td>40.00</td><td> 0.0</td><td>water</td></tr>\n",
              "\t<tr><td>639</td><td>66.50</td><td>female</td><td>13</td><td>5</td><td> 48.0</td><td> 2.5</td><td> 9.0</td><td>15.00</td><td>20.0</td><td>water</td></tr>\n",
              "\t<tr><td>640</td><td>61.00</td><td>female</td><td> 5</td><td>7</td><td> 10.0</td><td> 0.0</td><td> 8.5</td><td>   NA</td><td>10.0</td><td>water</td></tr>\n",
              "\t<tr><td>641</td><td>63.00</td><td>female</td><td>10</td><td>3</td><td>  6.0</td><td> 1.5</td><td>11.0</td><td>11.00</td><td> 0.0</td><td>water</td></tr>\n",
              "\t<tr><td>642</td><td>66.00</td><td>female</td><td>24</td><td>3</td><td> 12.0</td><td>-1.0</td><td> 8.0</td><td>30.00</td><td>20.0</td><td>water</td></tr>\n",
              "\t<tr><td>643</td><td>57.75</td><td>female</td><td>40</td><td>7</td><td> 10.0</td><td> 0.0</td><td> 6.8</td><td>10.00</td><td>17.5</td><td>water</td></tr>\n",
              "\t<tr><td>644</td><td>66.00</td><td>female</td><td>15</td><td>8</td><td> 15.0</td><td> 0.5</td><td>10.0</td><td> 7.00</td><td>15.0</td><td>pop  </td></tr>\n",
              "\t<tr><td>645</td><td>64.00</td><td>female</td><td>25</td><td>5</td><td>  1.0</td><td> 1.5</td><td>12.5</td><td>25.00</td><td> 0.0</td><td>pop  </td></tr>\n",
              "\t<tr><td>646</td><td>68.00</td><td>female</td><td>20</td><td>7</td><td> 30.0</td><td> 2.0</td><td> 8.5</td><td>25.00</td><td>12.5</td><td>pop  </td></tr>\n",
              "\t<tr><td>647</td><td>67.00</td><td>female</td><td>10</td><td>3</td><td>  2.0</td><td> 0.0</td><td> 7.0</td><td>35.00</td><td>10.0</td><td>pop  </td></tr>\n",
              "\t<tr><td>648</td><td>68.00</td><td>female</td><td> 8</td><td>7</td><td>  3.0</td><td>-0.5</td><td> 7.5</td><td> 0.00</td><td>20.0</td><td>water</td></tr>\n",
              "\t<tr><td>649</td><td>65.00</td><td>female</td><td>15</td><td>5</td><td> 60.0</td><td> 4.5</td><td>11.0</td><td>25.00</td><td>25.0</td><td>pop  </td></tr>\n",
              "\t<tr><td>650</td><td>74.00</td><td>male  </td><td> 4</td><td>2</td><td> 70.0</td><td> 1.5</td><td> 6.5</td><td>20.00</td><td> 7.0</td><td>water</td></tr>\n",
              "\t<tr><td>651</td><td>72.00</td><td>male  </td><td> 7</td><td>7</td><td> 40.0</td><td> 3.5</td><td>12.5</td><td>15.00</td><td>10.0</td><td>milk </td></tr>\n",
              "\t<tr><td>652</td><td>68.00</td><td>female</td><td>30</td><td>6</td><td>  4.0</td><td> 0.5</td><td> 9.5</td><td>20.00</td><td>15.0</td><td>water</td></tr>\n",
              "\t<tr><td>653</td><td>71.00</td><td>female</td><td>15</td><td>8</td><td> 25.0</td><td>-1.0</td><td> 9.0</td><td> 0.00</td><td> 0.0</td><td>water</td></tr>\n",
              "\t<tr><td>654</td><td>66.00</td><td>female</td><td>25</td><td>5</td><td>  1.0</td><td>-1.5</td><td> 9.0</td><td> 0.00</td><td>12.0</td><td>pop  </td></tr>\n",
              "\t<tr><td>655</td><td>67.00</td><td>female</td><td>10</td><td>7</td><td> 10.0</td><td> 0.0</td><td> 9.5</td><td> 0.00</td><td>10.0</td><td>pop  </td></tr>\n",
              "\t<tr><td>656</td><td>68.00</td><td>male  </td><td> 3</td><td>5</td><td> 15.0</td><td> 2.5</td><td> 7.7</td><td>15.00</td><td>20.0</td><td>pop  </td></tr>\n",
              "\t<tr><td>657</td><td>69.00</td><td>male  </td><td> 4</td><td>6</td><td> 20.0</td><td> 3.5</td><td>11.5</td><td> 0.00</td><td>  NA</td><td>water</td></tr>\n",
              "</tbody>\n",
              "</table>\n"
            ],
            "text/markdown": "\nA data.frame: 657 × 11\n\n| Student &lt;int&gt; | Height &lt;dbl&gt; | Gender &lt;fct&gt; | Shoes &lt;dbl&gt; | Number &lt;int&gt; | Dvds &lt;dbl&gt; | ToSleep &lt;dbl&gt; | WakeUp &lt;dbl&gt; | Haircut &lt;dbl&gt; | Job &lt;dbl&gt; | Drink &lt;fct&gt; |\n|---|---|---|---|---|---|---|---|---|---|---|\n|  1 | 67.0 | female |  10 |  5 |  10 | -2.5 |  5.5 |  60.0 | 30.0 | water |\n|  2 | 64.0 | female |  20 |  7 |   5 |  1.5 |  8.0 |   0.0 | 20.0 | pop   |\n|  3 | 61.0 | female |  12 |  2 |   6 | -1.5 |  7.5 |  48.0 |  0.0 | milk  |\n|  4 | 61.0 | female |   3 |  6 |  40 |  2.0 |  8.5 |  10.0 |  0.0 | water |\n|  5 | 70.0 | male   |   4 |  5 |   6 |  0.0 |  9.0 |  15.0 | 17.5 | pop   |\n|  6 | 63.0 | female |  NA |  3 |   5 |  1.0 |  8.5 |  25.0 |  0.0 | water |\n|  7 | 61.0 | female |  12 |  3 |  53 |  1.5 |  7.5 |  35.0 | 20.0 | water |\n|  8 | 64.0 | female |  25 |  4 |  20 |  0.5 |  7.5 |  25.0 |  0.0 | pop   |\n|  9 | 66.0 | female |  30 |  3 |  40 | -0.5 |  7.0 |  30.0 | 25.0 | water |\n| 10 | 65.0 | male   |  10 |  7 |  22 |  2.5 |  8.5 |  12.0 |  0.0 | milk  |\n| 11 | 72.0 | male   |   5 |  7 |   6 |  0.0 |  6.5 |  13.0 | 15.0 | milk  |\n| 12 | 63.0 | female |  20 |  4 |  60 | -1.0 |  7.0 |  38.0 |  0.0 | water |\n| 13 | 67.0 | female |  NA |  7 |   0 |  2.5 |  6.5 |  35.0 | 12.0 | pop   |\n| 14 | 63.5 | female |  20 |  6 |   3 | -1.0 |  7.5 | 110.0 | 27.0 | milk  |\n| 15 | 72.0 | male   |   5 | NA |  83 |  2.5 |  8.5 |  15.0 | 28.0 | pop   |\n| 16 | 65.0 | female |  40 |  7 |  50 | -0.5 |  7.0 |  15.0 |  0.0 | water |\n| 17 | 62.0 | female |   8 |  7 |  NA |  0.0 |  8.5 |  40.0 |  0.0 | water |\n| 18 | 66.0 | male   |   3 |  7 |  20 |  2.5 |  8.0 |  13.0 |  0.0 | pop   |\n| 19 | 71.0 | male   |   6 |  7 |   0 |  0.5 |  7.5 |  12.0 | 12.5 | water |\n| 20 | 64.0 | female |   4 |  7 |   8 | -1.5 |  7.5 |  30.0 | 16.0 | water |\n| 21 | 71.0 | male   |   9 |  7 |  12 |  1.5 |  8.0 |   0.0 | 12.0 | water |\n| 22 | 61.0 | female |  20 |  5 |  10 |  1.5 |  7.5 |  20.0 |  5.0 | water |\n| 23 | 56.0 | female | 164 |  8 |   5 |  1.0 |  8.0 |  40.0 | 12.5 | water |\n| 24 | 71.0 | male   |  11 |  3 |  13 |  2.0 | 10.0 |  12.0 | 20.0 | milk  |\n| 25 | 63.0 | female |  15 |  3 | 100 |  0.0 |  9.0 |  50.0 | 12.5 | pop   |\n| 26 | 65.0 | female |   5 |  8 |  10 | -0.5 |  6.0 |  10.0 | 22.0 | water |\n| 27 | 68.0 | male   |   9 |  7 |   2 |  0.5 |  8.0 |  10.0 |   NA | water |\n| 28 | 64.0 | female |  15 |  3 |   7 |  1.5 | 10.0 |  65.0 | 15.0 | pop   |\n| 29 | 59.0 | female |  25 |  6 |  10 |  0.5 |  8.5 |  25.0 |  0.0 | water |\n| 30 | 61.5 | female |  25 |  7 |  52 |  1.5 |  8.5 |  87.6 |  0.0 | water |\n| ⋮ | ⋮ | ⋮ | ⋮ | ⋮ | ⋮ | ⋮ | ⋮ | ⋮ | ⋮ | ⋮ |\n| 628 | 64.00 | female | 10 | 5 |  15.0 |  2.0 |  8.0 |  0.00 |  6.0 | pop   |\n| 629 | 65.00 | male   |  5 | 7 |   5.0 |  3.0 | 11.5 | 12.00 | 12.5 | water |\n| 630 | 71.00 | male   |  6 | 9 | 200.0 |  1.5 |  8.5 | 11.00 | 14.0 | milk  |\n| 631 | 71.00 | male   |  4 | 4 |  50.0 | -0.5 | 12.0 | 14.00 | 16.0 | pop   |\n| 632 | 70.00 | male   |  6 | 4 |  40.0 |  1.5 |  9.0 |  0.00 |  0.0 | water |\n| 633 | 71.00 | male   |  4 | 7 |  27.5 |  0.5 |  8.5 | 17.00 | 15.0 | pop   |\n| 634 | 67.00 | female | 28 | 2 |  10.0 |  2.0 |  9.0 |  0.00 | 13.0 | water |\n| 635 | 61.00 | female | 20 | 8 |  18.0 |  0.5 |  8.0 | 75.00 |  9.0 | water |\n| 636 | 67.00 | female |  7 | 6 |   3.0 | -1.0 |  8.0 | 20.00 |  0.0 | milk  |\n| 637 | 64.00 | female | 10 | 4 |  15.0 |  0.5 |  8.0 | 14.95 | 11.0 | water |\n| 638 | 67.00 | female | 12 | 8 |  13.0 |  4.0 |  9.0 | 40.00 |  0.0 | water |\n| 639 | 66.50 | female | 13 | 5 |  48.0 |  2.5 |  9.0 | 15.00 | 20.0 | water |\n| 640 | 61.00 | female |  5 | 7 |  10.0 |  0.0 |  8.5 |    NA | 10.0 | water |\n| 641 | 63.00 | female | 10 | 3 |   6.0 |  1.5 | 11.0 | 11.00 |  0.0 | water |\n| 642 | 66.00 | female | 24 | 3 |  12.0 | -1.0 |  8.0 | 30.00 | 20.0 | water |\n| 643 | 57.75 | female | 40 | 7 |  10.0 |  0.0 |  6.8 | 10.00 | 17.5 | water |\n| 644 | 66.00 | female | 15 | 8 |  15.0 |  0.5 | 10.0 |  7.00 | 15.0 | pop   |\n| 645 | 64.00 | female | 25 | 5 |   1.0 |  1.5 | 12.5 | 25.00 |  0.0 | pop   |\n| 646 | 68.00 | female | 20 | 7 |  30.0 |  2.0 |  8.5 | 25.00 | 12.5 | pop   |\n| 647 | 67.00 | female | 10 | 3 |   2.0 |  0.0 |  7.0 | 35.00 | 10.0 | pop   |\n| 648 | 68.00 | female |  8 | 7 |   3.0 | -0.5 |  7.5 |  0.00 | 20.0 | water |\n| 649 | 65.00 | female | 15 | 5 |  60.0 |  4.5 | 11.0 | 25.00 | 25.0 | pop   |\n| 650 | 74.00 | male   |  4 | 2 |  70.0 |  1.5 |  6.5 | 20.00 |  7.0 | water |\n| 651 | 72.00 | male   |  7 | 7 |  40.0 |  3.5 | 12.5 | 15.00 | 10.0 | milk  |\n| 652 | 68.00 | female | 30 | 6 |   4.0 |  0.5 |  9.5 | 20.00 | 15.0 | water |\n| 653 | 71.00 | female | 15 | 8 |  25.0 | -1.0 |  9.0 |  0.00 |  0.0 | water |\n| 654 | 66.00 | female | 25 | 5 |   1.0 | -1.5 |  9.0 |  0.00 | 12.0 | pop   |\n| 655 | 67.00 | female | 10 | 7 |  10.0 |  0.0 |  9.5 |  0.00 | 10.0 | pop   |\n| 656 | 68.00 | male   |  3 | 5 |  15.0 |  2.5 |  7.7 | 15.00 | 20.0 | pop   |\n| 657 | 69.00 | male   |  4 | 6 |  20.0 |  3.5 | 11.5 |  0.00 |   NA | water |\n\n",
            "text/latex": "A data.frame: 657 × 11\n\\begin{tabular}{lllllllllll}\n Student & Height & Gender & Shoes & Number & Dvds & ToSleep & WakeUp & Haircut & Job & Drink\\\\\n <int> & <dbl> & <fct> & <dbl> & <int> & <dbl> & <dbl> & <dbl> & <dbl> & <dbl> & <fct>\\\\\n\\hline\n\t  1 & 67.0 & female &  10 &  5 &  10 & -2.5 &  5.5 &  60.0 & 30.0 & water\\\\\n\t  2 & 64.0 & female &  20 &  7 &   5 &  1.5 &  8.0 &   0.0 & 20.0 & pop  \\\\\n\t  3 & 61.0 & female &  12 &  2 &   6 & -1.5 &  7.5 &  48.0 &  0.0 & milk \\\\\n\t  4 & 61.0 & female &   3 &  6 &  40 &  2.0 &  8.5 &  10.0 &  0.0 & water\\\\\n\t  5 & 70.0 & male   &   4 &  5 &   6 &  0.0 &  9.0 &  15.0 & 17.5 & pop  \\\\\n\t  6 & 63.0 & female &  NA &  3 &   5 &  1.0 &  8.5 &  25.0 &  0.0 & water\\\\\n\t  7 & 61.0 & female &  12 &  3 &  53 &  1.5 &  7.5 &  35.0 & 20.0 & water\\\\\n\t  8 & 64.0 & female &  25 &  4 &  20 &  0.5 &  7.5 &  25.0 &  0.0 & pop  \\\\\n\t  9 & 66.0 & female &  30 &  3 &  40 & -0.5 &  7.0 &  30.0 & 25.0 & water\\\\\n\t 10 & 65.0 & male   &  10 &  7 &  22 &  2.5 &  8.5 &  12.0 &  0.0 & milk \\\\\n\t 11 & 72.0 & male   &   5 &  7 &   6 &  0.0 &  6.5 &  13.0 & 15.0 & milk \\\\\n\t 12 & 63.0 & female &  20 &  4 &  60 & -1.0 &  7.0 &  38.0 &  0.0 & water\\\\\n\t 13 & 67.0 & female &  NA &  7 &   0 &  2.5 &  6.5 &  35.0 & 12.0 & pop  \\\\\n\t 14 & 63.5 & female &  20 &  6 &   3 & -1.0 &  7.5 & 110.0 & 27.0 & milk \\\\\n\t 15 & 72.0 & male   &   5 & NA &  83 &  2.5 &  8.5 &  15.0 & 28.0 & pop  \\\\\n\t 16 & 65.0 & female &  40 &  7 &  50 & -0.5 &  7.0 &  15.0 &  0.0 & water\\\\\n\t 17 & 62.0 & female &   8 &  7 &  NA &  0.0 &  8.5 &  40.0 &  0.0 & water\\\\\n\t 18 & 66.0 & male   &   3 &  7 &  20 &  2.5 &  8.0 &  13.0 &  0.0 & pop  \\\\\n\t 19 & 71.0 & male   &   6 &  7 &   0 &  0.5 &  7.5 &  12.0 & 12.5 & water\\\\\n\t 20 & 64.0 & female &   4 &  7 &   8 & -1.5 &  7.5 &  30.0 & 16.0 & water\\\\\n\t 21 & 71.0 & male   &   9 &  7 &  12 &  1.5 &  8.0 &   0.0 & 12.0 & water\\\\\n\t 22 & 61.0 & female &  20 &  5 &  10 &  1.5 &  7.5 &  20.0 &  5.0 & water\\\\\n\t 23 & 56.0 & female & 164 &  8 &   5 &  1.0 &  8.0 &  40.0 & 12.5 & water\\\\\n\t 24 & 71.0 & male   &  11 &  3 &  13 &  2.0 & 10.0 &  12.0 & 20.0 & milk \\\\\n\t 25 & 63.0 & female &  15 &  3 & 100 &  0.0 &  9.0 &  50.0 & 12.5 & pop  \\\\\n\t 26 & 65.0 & female &   5 &  8 &  10 & -0.5 &  6.0 &  10.0 & 22.0 & water\\\\\n\t 27 & 68.0 & male   &   9 &  7 &   2 &  0.5 &  8.0 &  10.0 &   NA & water\\\\\n\t 28 & 64.0 & female &  15 &  3 &   7 &  1.5 & 10.0 &  65.0 & 15.0 & pop  \\\\\n\t 29 & 59.0 & female &  25 &  6 &  10 &  0.5 &  8.5 &  25.0 &  0.0 & water\\\\\n\t 30 & 61.5 & female &  25 &  7 &  52 &  1.5 &  8.5 &  87.6 &  0.0 & water\\\\\n\t ⋮ & ⋮ & ⋮ & ⋮ & ⋮ & ⋮ & ⋮ & ⋮ & ⋮ & ⋮ & ⋮\\\\\n\t 628 & 64.00 & female & 10 & 5 &  15.0 &  2.0 &  8.0 &  0.00 &  6.0 & pop  \\\\\n\t 629 & 65.00 & male   &  5 & 7 &   5.0 &  3.0 & 11.5 & 12.00 & 12.5 & water\\\\\n\t 630 & 71.00 & male   &  6 & 9 & 200.0 &  1.5 &  8.5 & 11.00 & 14.0 & milk \\\\\n\t 631 & 71.00 & male   &  4 & 4 &  50.0 & -0.5 & 12.0 & 14.00 & 16.0 & pop  \\\\\n\t 632 & 70.00 & male   &  6 & 4 &  40.0 &  1.5 &  9.0 &  0.00 &  0.0 & water\\\\\n\t 633 & 71.00 & male   &  4 & 7 &  27.5 &  0.5 &  8.5 & 17.00 & 15.0 & pop  \\\\\n\t 634 & 67.00 & female & 28 & 2 &  10.0 &  2.0 &  9.0 &  0.00 & 13.0 & water\\\\\n\t 635 & 61.00 & female & 20 & 8 &  18.0 &  0.5 &  8.0 & 75.00 &  9.0 & water\\\\\n\t 636 & 67.00 & female &  7 & 6 &   3.0 & -1.0 &  8.0 & 20.00 &  0.0 & milk \\\\\n\t 637 & 64.00 & female & 10 & 4 &  15.0 &  0.5 &  8.0 & 14.95 & 11.0 & water\\\\\n\t 638 & 67.00 & female & 12 & 8 &  13.0 &  4.0 &  9.0 & 40.00 &  0.0 & water\\\\\n\t 639 & 66.50 & female & 13 & 5 &  48.0 &  2.5 &  9.0 & 15.00 & 20.0 & water\\\\\n\t 640 & 61.00 & female &  5 & 7 &  10.0 &  0.0 &  8.5 &    NA & 10.0 & water\\\\\n\t 641 & 63.00 & female & 10 & 3 &   6.0 &  1.5 & 11.0 & 11.00 &  0.0 & water\\\\\n\t 642 & 66.00 & female & 24 & 3 &  12.0 & -1.0 &  8.0 & 30.00 & 20.0 & water\\\\\n\t 643 & 57.75 & female & 40 & 7 &  10.0 &  0.0 &  6.8 & 10.00 & 17.5 & water\\\\\n\t 644 & 66.00 & female & 15 & 8 &  15.0 &  0.5 & 10.0 &  7.00 & 15.0 & pop  \\\\\n\t 645 & 64.00 & female & 25 & 5 &   1.0 &  1.5 & 12.5 & 25.00 &  0.0 & pop  \\\\\n\t 646 & 68.00 & female & 20 & 7 &  30.0 &  2.0 &  8.5 & 25.00 & 12.5 & pop  \\\\\n\t 647 & 67.00 & female & 10 & 3 &   2.0 &  0.0 &  7.0 & 35.00 & 10.0 & pop  \\\\\n\t 648 & 68.00 & female &  8 & 7 &   3.0 & -0.5 &  7.5 &  0.00 & 20.0 & water\\\\\n\t 649 & 65.00 & female & 15 & 5 &  60.0 &  4.5 & 11.0 & 25.00 & 25.0 & pop  \\\\\n\t 650 & 74.00 & male   &  4 & 2 &  70.0 &  1.5 &  6.5 & 20.00 &  7.0 & water\\\\\n\t 651 & 72.00 & male   &  7 & 7 &  40.0 &  3.5 & 12.5 & 15.00 & 10.0 & milk \\\\\n\t 652 & 68.00 & female & 30 & 6 &   4.0 &  0.5 &  9.5 & 20.00 & 15.0 & water\\\\\n\t 653 & 71.00 & female & 15 & 8 &  25.0 & -1.0 &  9.0 &  0.00 &  0.0 & water\\\\\n\t 654 & 66.00 & female & 25 & 5 &   1.0 & -1.5 &  9.0 &  0.00 & 12.0 & pop  \\\\\n\t 655 & 67.00 & female & 10 & 7 &  10.0 &  0.0 &  9.5 &  0.00 & 10.0 & pop  \\\\\n\t 656 & 68.00 & male   &  3 & 5 &  15.0 &  2.5 &  7.7 & 15.00 & 20.0 & pop  \\\\\n\t 657 & 69.00 & male   &  4 & 6 &  20.0 &  3.5 & 11.5 &  0.00 &   NA & water\\\\\n\\end{tabular}\n"
          },
          "metadata": {}
        }
      ]
    },
    {
      "cell_type": "code",
      "source": [
        "df <- studentdata\n",
        "dim(df)"
      ],
      "metadata": {
        "colab": {
          "base_uri": "https://localhost:8080/",
          "height": 34
        },
        "id": "hg-BOiLd8FqA",
        "outputId": "54f4dee5-95a9-4fc9-b71f-241511afae5a"
      },
      "execution_count": null,
      "outputs": [
        {
          "output_type": "display_data",
          "data": {
            "text/html": [
              "<style>\n",
              ".list-inline {list-style: none; margin:0; padding: 0}\n",
              ".list-inline>li {display: inline-block}\n",
              ".list-inline>li:not(:last-child)::after {content: \"\\00b7\"; padding: 0 .5ex}\n",
              "</style>\n",
              "<ol class=list-inline><li>657</li><li>11</li></ol>\n"
            ],
            "text/markdown": "1. 657\n2. 11\n\n\n",
            "text/latex": "\\begin{enumerate*}\n\\item 657\n\\item 11\n\\end{enumerate*}\n",
            "text/plain": [
              "[1] 657  11"
            ]
          },
          "metadata": {}
        }
      ]
    },
    {
      "cell_type": "code",
      "source": [
        "sum(is.na(df)) #boş gözlem sayısı"
      ],
      "metadata": {
        "colab": {
          "base_uri": "https://localhost:8080/",
          "height": 34
        },
        "id": "h8LqodXE8X4P",
        "outputId": "1330aaaf-d1c5-47a1-96ed-4d8bd4885baa"
      },
      "execution_count": null,
      "outputs": [
        {
          "output_type": "display_data",
          "data": {
            "text/html": [
              "118"
            ],
            "text/markdown": "118",
            "text/latex": "118",
            "text/plain": [
              "[1] 118"
            ]
          },
          "metadata": {}
        }
      ]
    },
    {
      "cell_type": "code",
      "source": [
        "df <- na.omit(df) # boş gözlemler silindi\n",
        "dim(df)"
      ],
      "metadata": {
        "colab": {
          "base_uri": "https://localhost:8080/",
          "height": 34
        },
        "id": "w8p0pF3b8gfe",
        "outputId": "176c4d7a-45ab-48c4-e38e-cc88d954012a"
      },
      "execution_count": null,
      "outputs": [
        {
          "output_type": "display_data",
          "data": {
            "text/html": [
              "<style>\n",
              ".list-inline {list-style: none; margin:0; padding: 0}\n",
              ".list-inline>li {display: inline-block}\n",
              ".list-inline>li:not(:last-child)::after {content: \"\\00b7\"; padding: 0 .5ex}\n",
              "</style>\n",
              "<ol class=list-inline><li>559</li><li>11</li></ol>\n"
            ],
            "text/markdown": "1. 559\n2. 11\n\n\n",
            "text/latex": "\\begin{enumerate*}\n\\item 559\n\\item 11\n\\end{enumerate*}\n",
            "text/plain": [
              "[1] 559  11"
            ]
          },
          "metadata": {}
        }
      ]
    },
    {
      "cell_type": "code",
      "source": [
        "# vektörün uzunluğu: length()\n",
        "# dataframe uzunluğu : nrow() ncol()"
      ],
      "metadata": {
        "id": "fOVTJU2--K9I"
      },
      "execution_count": null,
      "outputs": []
    },
    {
      "cell_type": "code",
      "source": [
        "install.packages(\"readr\")\n",
        "library(readr)"
      ],
      "metadata": {
        "colab": {
          "base_uri": "https://localhost:8080/"
        },
        "id": "PQN96ahy_DhH",
        "outputId": "9d1fa74c-1c4c-4947-dc42-3618516bc390"
      },
      "execution_count": null,
      "outputs": [
        {
          "output_type": "stream",
          "name": "stderr",
          "text": [
            "Installing package into ‘/usr/local/lib/R/site-library’\n",
            "(as ‘lib’ is unspecified)\n",
            "\n"
          ]
        }
      ]
    },
    {
      "cell_type": "code",
      "source": [
        "df_covid <- read_csv(\"http://kelesonur.github.io/compec-r/covid_sayi.csv\")\n",
        "head(df_covid)"
      ],
      "metadata": {
        "colab": {
          "base_uri": "https://localhost:8080/",
          "height": 549
        },
        "id": "FZtcbFnE_UtU",
        "outputId": "16a91431-7ba8-430b-ec8d-667ab88bd83f"
      },
      "execution_count": null,
      "outputs": [
        {
          "output_type": "stream",
          "name": "stderr",
          "text": [
            "\u001b[1mRows: \u001b[22m\u001b[34m315\u001b[39m \u001b[1mColumns: \u001b[22m\u001b[34m12\u001b[39m\n",
            "\u001b[36m──\u001b[39m \u001b[1mColumn specification\u001b[22m \u001b[36m────────────────────────────────────────────────────────\u001b[39m\n",
            "\u001b[1mDelimiter:\u001b[22m \",\"\n",
            "\u001b[32mdbl\u001b[39m  (11): gunluk_test, gunluk_vaka, gunluk_olum, gunluk_iyilesen, toplam_te...\n",
            "\u001b[34mdate\u001b[39m  (1): tarih\n",
            "\n",
            "\u001b[36mℹ\u001b[39m Use `spec()` to retrieve the full column specification for this data.\n",
            "\u001b[36mℹ\u001b[39m Specify the column types or set `show_col_types = FALSE` to quiet this message.\n"
          ]
        },
        {
          "output_type": "display_data",
          "data": {
            "text/html": [
              "<table class=\"dataframe\">\n",
              "<caption>A tibble: 6 × 12</caption>\n",
              "<thead>\n",
              "\t<tr><th scope=col>tarih</th><th scope=col>gunluk_test</th><th scope=col>gunluk_vaka</th><th scope=col>gunluk_olum</th><th scope=col>gunluk_iyilesen</th><th scope=col>toplam_test</th><th scope=col>toplam_vaka</th><th scope=col>toplam_olum</th><th scope=col>toplam_iyilesen</th><th scope=col>yogun_bakim_hasta</th><th scope=col>toplam_intube</th><th scope=col>agir_hasta</th></tr>\n",
              "\t<tr><th scope=col>&lt;date&gt;</th><th scope=col>&lt;dbl&gt;</th><th scope=col>&lt;dbl&gt;</th><th scope=col>&lt;dbl&gt;</th><th scope=col>&lt;dbl&gt;</th><th scope=col>&lt;dbl&gt;</th><th scope=col>&lt;dbl&gt;</th><th scope=col>&lt;dbl&gt;</th><th scope=col>&lt;dbl&gt;</th><th scope=col>&lt;dbl&gt;</th><th scope=col>&lt;dbl&gt;</th><th scope=col>&lt;dbl&gt;</th></tr>\n",
              "</thead>\n",
              "<tbody>\n",
              "\t<tr><td>2020-03-11</td><td>0</td><td> 1</td><td>0</td><td>0</td><td>0</td><td> 1</td><td>0</td><td>0</td><td>0</td><td>0</td><td>NA</td></tr>\n",
              "\t<tr><td>2020-03-12</td><td>0</td><td> 0</td><td>0</td><td>0</td><td>0</td><td> 1</td><td>0</td><td>0</td><td>0</td><td>0</td><td>NA</td></tr>\n",
              "\t<tr><td>2020-03-13</td><td>0</td><td> 4</td><td>0</td><td>0</td><td>0</td><td> 5</td><td>0</td><td>0</td><td>0</td><td>0</td><td>NA</td></tr>\n",
              "\t<tr><td>2020-03-14</td><td>0</td><td> 1</td><td>0</td><td>0</td><td>0</td><td> 6</td><td>0</td><td>0</td><td>0</td><td>0</td><td>NA</td></tr>\n",
              "\t<tr><td>2020-03-15</td><td>0</td><td>12</td><td>1</td><td>0</td><td>0</td><td>18</td><td>1</td><td>0</td><td>0</td><td>0</td><td>NA</td></tr>\n",
              "\t<tr><td>2020-03-16</td><td>0</td><td>29</td><td>0</td><td>0</td><td>0</td><td>47</td><td>1</td><td>0</td><td>0</td><td>0</td><td>NA</td></tr>\n",
              "</tbody>\n",
              "</table>\n"
            ],
            "text/markdown": "\nA tibble: 6 × 12\n\n| tarih &lt;date&gt; | gunluk_test &lt;dbl&gt; | gunluk_vaka &lt;dbl&gt; | gunluk_olum &lt;dbl&gt; | gunluk_iyilesen &lt;dbl&gt; | toplam_test &lt;dbl&gt; | toplam_vaka &lt;dbl&gt; | toplam_olum &lt;dbl&gt; | toplam_iyilesen &lt;dbl&gt; | yogun_bakim_hasta &lt;dbl&gt; | toplam_intube &lt;dbl&gt; | agir_hasta &lt;dbl&gt; |\n|---|---|---|---|---|---|---|---|---|---|---|---|\n| 2020-03-11 | 0 |  1 | 0 | 0 | 0 |  1 | 0 | 0 | 0 | 0 | NA |\n| 2020-03-12 | 0 |  0 | 0 | 0 | 0 |  1 | 0 | 0 | 0 | 0 | NA |\n| 2020-03-13 | 0 |  4 | 0 | 0 | 0 |  5 | 0 | 0 | 0 | 0 | NA |\n| 2020-03-14 | 0 |  1 | 0 | 0 | 0 |  6 | 0 | 0 | 0 | 0 | NA |\n| 2020-03-15 | 0 | 12 | 1 | 0 | 0 | 18 | 1 | 0 | 0 | 0 | NA |\n| 2020-03-16 | 0 | 29 | 0 | 0 | 0 | 47 | 1 | 0 | 0 | 0 | NA |\n\n",
            "text/latex": "A tibble: 6 × 12\n\\begin{tabular}{llllllllllll}\n tarih & gunluk\\_test & gunluk\\_vaka & gunluk\\_olum & gunluk\\_iyilesen & toplam\\_test & toplam\\_vaka & toplam\\_olum & toplam\\_iyilesen & yogun\\_bakim\\_hasta & toplam\\_intube & agir\\_hasta\\\\\n <date> & <dbl> & <dbl> & <dbl> & <dbl> & <dbl> & <dbl> & <dbl> & <dbl> & <dbl> & <dbl> & <dbl>\\\\\n\\hline\n\t 2020-03-11 & 0 &  1 & 0 & 0 & 0 &  1 & 0 & 0 & 0 & 0 & NA\\\\\n\t 2020-03-12 & 0 &  0 & 0 & 0 & 0 &  1 & 0 & 0 & 0 & 0 & NA\\\\\n\t 2020-03-13 & 0 &  4 & 0 & 0 & 0 &  5 & 0 & 0 & 0 & 0 & NA\\\\\n\t 2020-03-14 & 0 &  1 & 0 & 0 & 0 &  6 & 0 & 0 & 0 & 0 & NA\\\\\n\t 2020-03-15 & 0 & 12 & 1 & 0 & 0 & 18 & 1 & 0 & 0 & 0 & NA\\\\\n\t 2020-03-16 & 0 & 29 & 0 & 0 & 0 & 47 & 1 & 0 & 0 & 0 & NA\\\\\n\\end{tabular}\n",
            "text/plain": [
              "  tarih      gunluk_test gunluk_vaka gunluk_olum gunluk_iyilesen toplam_test\n",
              "1 2020-03-11 0            1          0           0               0          \n",
              "2 2020-03-12 0            0          0           0               0          \n",
              "3 2020-03-13 0            4          0           0               0          \n",
              "4 2020-03-14 0            1          0           0               0          \n",
              "5 2020-03-15 0           12          1           0               0          \n",
              "6 2020-03-16 0           29          0           0               0          \n",
              "  toplam_vaka toplam_olum toplam_iyilesen yogun_bakim_hasta toplam_intube\n",
              "1  1          0           0               0                 0            \n",
              "2  1          0           0               0                 0            \n",
              "3  5          0           0               0                 0            \n",
              "4  6          0           0               0                 0            \n",
              "5 18          1           0               0                 0            \n",
              "6 47          1           0               0                 0            \n",
              "  agir_hasta\n",
              "1 NA        \n",
              "2 NA        \n",
              "3 NA        \n",
              "4 NA        \n",
              "5 NA        \n",
              "6 NA        "
            ]
          },
          "metadata": {}
        }
      ]
    },
    {
      "cell_type": "markdown",
      "source": [
        "1 - Create a histogram (of daily death toll) and time-series plot (x: time, y: daily death toll). You can use hist() and boxplot() functions respectively to do that. Add label names."
      ],
      "metadata": {
        "id": "i4UH-kiyDQGK"
      }
    },
    {
      "cell_type": "code",
      "source": [
        "boxplot(df_covid$gunluk_olum ~ df_covid$tarih)"
      ],
      "metadata": {
        "colab": {
          "base_uri": "https://localhost:8080/",
          "height": 437
        },
        "id": "NNHQGid5DYAU",
        "outputId": "da426985-48aa-41b2-d452-57d77588d192"
      },
      "execution_count": null,
      "outputs": [
        {
          "output_type": "display_data",
          "data": {
            "text/plain": [
              "plot without title"
            ],
            "image/png": "[encoded data removed]"
          },
          "metadata": {
            "image/png": {
              "width": 420,
              "height": 420
            }
          }
        }
      ]
    },
    {
      "cell_type": "markdown",
      "source": [
        "2- How many cases of COVID were detected and how many people died on July 20, 2020?"
      ],
      "metadata": {
        "id": "dCiPeKvyD7y_"
      }
    },
    {
      "cell_type": "code",
      "source": [
        "df_covid[df_covid$tarih < \"2020-07-21\",]"
      ],
      "metadata": {
        "colab": {
          "base_uri": "https://localhost:8080/",
          "height": 1000
        },
        "id": "reYP7e8-EApv",
        "outputId": "b88bc3d8-f58f-4864-decd-1322d0c02308"
      },
      "execution_count": null,
      "outputs": [
        {
          "output_type": "display_data",
          "data": {
            "text/html": [
              "<table class=\"dataframe\">\n",
              "<caption>A tibble: 132 × 12</caption>\n",
              "<thead>\n",
              "\t<tr><th scope=col>tarih</th><th scope=col>gunluk_test</th><th scope=col>gunluk_vaka</th><th scope=col>gunluk_olum</th><th scope=col>gunluk_iyilesen</th><th scope=col>toplam_test</th><th scope=col>toplam_vaka</th><th scope=col>toplam_olum</th><th scope=col>toplam_iyilesen</th><th scope=col>yogun_bakim_hasta</th><th scope=col>toplam_intube</th><th scope=col>agir_hasta</th></tr>\n",
              "\t<tr><th scope=col>&lt;date&gt;</th><th scope=col>&lt;dbl&gt;</th><th scope=col>&lt;dbl&gt;</th><th scope=col>&lt;dbl&gt;</th><th scope=col>&lt;dbl&gt;</th><th scope=col>&lt;dbl&gt;</th><th scope=col>&lt;dbl&gt;</th><th scope=col>&lt;dbl&gt;</th><th scope=col>&lt;dbl&gt;</th><th scope=col>&lt;dbl&gt;</th><th scope=col>&lt;dbl&gt;</th><th scope=col>&lt;dbl&gt;</th></tr>\n",
              "</thead>\n",
              "<tbody>\n",
              "\t<tr><td>2020-03-11</td><td>    0</td><td>   1</td><td> 0</td><td>  0</td><td>     0</td><td>    1</td><td>  0</td><td>   0</td><td>   0</td><td>   0</td><td>NA</td></tr>\n",
              "\t<tr><td>2020-03-12</td><td>    0</td><td>   0</td><td> 0</td><td>  0</td><td>     0</td><td>    1</td><td>  0</td><td>   0</td><td>   0</td><td>   0</td><td>NA</td></tr>\n",
              "\t<tr><td>2020-03-13</td><td>    0</td><td>   4</td><td> 0</td><td>  0</td><td>     0</td><td>    5</td><td>  0</td><td>   0</td><td>   0</td><td>   0</td><td>NA</td></tr>\n",
              "\t<tr><td>2020-03-14</td><td>    0</td><td>   1</td><td> 0</td><td>  0</td><td>     0</td><td>    6</td><td>  0</td><td>   0</td><td>   0</td><td>   0</td><td>NA</td></tr>\n",
              "\t<tr><td>2020-03-15</td><td>    0</td><td>  12</td><td> 1</td><td>  0</td><td>     0</td><td>   18</td><td>  1</td><td>   0</td><td>   0</td><td>   0</td><td>NA</td></tr>\n",
              "\t<tr><td>2020-03-16</td><td>    0</td><td>  29</td><td> 0</td><td>  0</td><td>     0</td><td>   47</td><td>  1</td><td>   0</td><td>   0</td><td>   0</td><td>NA</td></tr>\n",
              "\t<tr><td>2020-03-17</td><td>    0</td><td>  51</td><td> 1</td><td>  0</td><td>  8002</td><td>   98</td><td>  2</td><td>   0</td><td>   0</td><td>   0</td><td>NA</td></tr>\n",
              "\t<tr><td>2020-03-18</td><td> 2015</td><td>  93</td><td> 2</td><td>  0</td><td> 10017</td><td>  191</td><td>  3</td><td>   0</td><td>   0</td><td>   0</td><td>NA</td></tr>\n",
              "\t<tr><td>2020-03-19</td><td> 1981</td><td> 168</td><td> 1</td><td>  0</td><td> 11998</td><td>  359</td><td>  4</td><td>   0</td><td>   0</td><td>   0</td><td>NA</td></tr>\n",
              "\t<tr><td>2020-03-20</td><td> 3656</td><td> 311</td><td> 5</td><td>  0</td><td> 15624</td><td>  670</td><td>  9</td><td>   0</td><td>   0</td><td>   0</td><td>NA</td></tr>\n",
              "\t<tr><td>2020-03-21</td><td> 2952</td><td> 277</td><td>12</td><td>  0</td><td> 18604</td><td>  947</td><td> 21</td><td>   0</td><td>   0</td><td>   0</td><td>NA</td></tr>\n",
              "\t<tr><td>2020-03-22</td><td> 1738</td><td> 289</td><td> 9</td><td>  0</td><td> 20345</td><td> 1236</td><td> 30</td><td>   0</td><td>   0</td><td>   0</td><td>NA</td></tr>\n",
              "\t<tr><td>2020-03-23</td><td> 3672</td><td> 293</td><td> 7</td><td>  0</td><td> 24017</td><td> 1529</td><td> 37</td><td>   0</td><td>   0</td><td>   0</td><td>NA</td></tr>\n",
              "\t<tr><td>2020-03-24</td><td> 3952</td><td> 343</td><td> 7</td><td>  0</td><td> 27969</td><td> 1872</td><td> 44</td><td>  26</td><td> 136</td><td> 102</td><td>NA</td></tr>\n",
              "\t<tr><td>2020-03-25</td><td> 5035</td><td> 561</td><td>15</td><td>  0</td><td> 33004</td><td> 2433</td><td> 59</td><td>   0</td><td>   0</td><td>   0</td><td>NA</td></tr>\n",
              "\t<tr><td>2020-03-26</td><td> 7286</td><td>1196</td><td>16</td><td>  0</td><td> 40290</td><td> 3629</td><td> 75</td><td>   0</td><td>   0</td><td>   0</td><td>NA</td></tr>\n",
              "\t<tr><td>2020-03-27</td><td> 7533</td><td>2069</td><td>17</td><td> 16</td><td> 47823</td><td> 5698</td><td> 92</td><td>  42</td><td> 344</td><td> 241</td><td>NA</td></tr>\n",
              "\t<tr><td>2020-03-28</td><td> 7641</td><td>1704</td><td>16</td><td> 28</td><td> 55464</td><td> 7402</td><td>108</td><td>  70</td><td> 445</td><td> 309</td><td>NA</td></tr>\n",
              "\t<tr><td>2020-03-29</td><td> 9982</td><td>1815</td><td>23</td><td> 35</td><td> 65446</td><td> 9217</td><td>131</td><td> 105</td><td> 568</td><td> 394</td><td>NA</td></tr>\n",
              "\t<tr><td>2020-03-30</td><td>11535</td><td>1610</td><td>37</td><td> 57</td><td> 76981</td><td>10827</td><td>168</td><td> 162</td><td> 725</td><td> 523</td><td>NA</td></tr>\n",
              "\t<tr><td>2020-03-31</td><td>15422</td><td>2704</td><td>46</td><td> 81</td><td> 92403</td><td>13531</td><td>214</td><td> 243</td><td> 847</td><td> 622</td><td>NA</td></tr>\n",
              "\t<tr><td>2020-04-01</td><td>14397</td><td>2148</td><td>63</td><td> 90</td><td>106799</td><td>15679</td><td>277</td><td> 333</td><td> 979</td><td> 692</td><td>NA</td></tr>\n",
              "\t<tr><td>2020-04-02</td><td>18757</td><td>2456</td><td>79</td><td> 82</td><td>125556</td><td>18315</td><td>356</td><td> 415</td><td>1101</td><td> 783</td><td>NA</td></tr>\n",
              "\t<tr><td>2020-04-03</td><td>16160</td><td>2786</td><td>69</td><td> 69</td><td>141716</td><td>20921</td><td>425</td><td> 484</td><td>1251</td><td> 867</td><td>NA</td></tr>\n",
              "\t<tr><td>2020-04-04</td><td>19664</td><td>3013</td><td>76</td><td>302</td><td>161380</td><td>23934</td><td>501</td><td> 786</td><td>1311</td><td> 909</td><td>NA</td></tr>\n",
              "\t<tr><td>2020-04-05</td><td>20065</td><td>3135</td><td>73</td><td>256</td><td>181446</td><td>27069</td><td>574</td><td>1042</td><td>1381</td><td> 935</td><td>NA</td></tr>\n",
              "\t<tr><td>2020-04-06</td><td>21400</td><td>3148</td><td>75</td><td>284</td><td>202845</td><td>30217</td><td>649</td><td>1326</td><td>1415</td><td> 966</td><td>NA</td></tr>\n",
              "\t<tr><td>2020-04-07</td><td>20023</td><td>3892</td><td>76</td><td>256</td><td>222868</td><td>34109</td><td>725</td><td>1582</td><td>1474</td><td> 987</td><td>NA</td></tr>\n",
              "\t<tr><td>2020-04-08</td><td>24900</td><td>4117</td><td>87</td><td>264</td><td>247768</td><td>38226</td><td>812</td><td>1846</td><td>1492</td><td> 995</td><td>NA</td></tr>\n",
              "\t<tr><td>2020-04-09</td><td>28578</td><td>4056</td><td>96</td><td>296</td><td>276346</td><td>42282</td><td>908</td><td>2142</td><td>1552</td><td>1017</td><td>NA</td></tr>\n",
              "\t<tr><td>⋮</td><td>⋮</td><td>⋮</td><td>⋮</td><td>⋮</td><td>⋮</td><td>⋮</td><td>⋮</td><td>⋮</td><td>⋮</td><td>⋮</td><td>⋮</td></tr>\n",
              "\t<tr><td>2020-06-21</td><td>40496</td><td>1192</td><td>23</td><td>1412</td><td>2945240</td><td>187685</td><td>4950</td><td>160240</td><td> 803</td><td>327</td><td>NA</td></tr>\n",
              "\t<tr><td>2020-06-22</td><td>41413</td><td>1212</td><td>24</td><td>1293</td><td>2986653</td><td>188897</td><td>4974</td><td>161533</td><td> 846</td><td>345</td><td>NA</td></tr>\n",
              "\t<tr><td>2020-06-23</td><td>42982</td><td>1268</td><td>27</td><td>1315</td><td>3029635</td><td>190165</td><td>5001</td><td>162848</td><td> 893</td><td>362</td><td>NA</td></tr>\n",
              "\t<tr><td>2020-06-24</td><td>53486</td><td>1492</td><td>24</td><td>1386</td><td>3083121</td><td>191657</td><td>5025</td><td>164234</td><td> 914</td><td>356</td><td>NA</td></tr>\n",
              "\t<tr><td>2020-06-25</td><td>52303</td><td>1458</td><td>21</td><td>1472</td><td>3135424</td><td>193115</td><td>5046</td><td>165706</td><td> 941</td><td>369</td><td>NA</td></tr>\n",
              "\t<tr><td>2020-06-26</td><td>51198</td><td>1396</td><td>19</td><td>1492</td><td>3186622</td><td>194511</td><td>5065</td><td>167198</td><td> 963</td><td>382</td><td>NA</td></tr>\n",
              "\t<tr><td>2020-06-27</td><td>45213</td><td>1372</td><td>17</td><td>1984</td><td>3231835</td><td>195883</td><td>5082</td><td>169182</td><td> 984</td><td>366</td><td>NA</td></tr>\n",
              "\t<tr><td>2020-06-28</td><td>48309</td><td>1356</td><td>15</td><td>1413</td><td>3280144</td><td>197239</td><td>5097</td><td>170595</td><td> 996</td><td>381</td><td>NA</td></tr>\n",
              "\t<tr><td>2020-06-29</td><td>51014</td><td>1374</td><td>18</td><td>1214</td><td>3331158</td><td>198613</td><td>5115</td><td>171809</td><td>1018</td><td>375</td><td>NA</td></tr>\n",
              "\t<tr><td>2020-06-30</td><td>50492</td><td>1293</td><td>16</td><td>1302</td><td>3381650</td><td>199906</td><td>5131</td><td>173111</td><td>1026</td><td>368</td><td>NA</td></tr>\n",
              "\t<tr><td>2020-07-01</td><td>52313</td><td>1192</td><td>19</td><td>2311</td><td>3433963</td><td>201098</td><td>5150</td><td>175422</td><td>1035</td><td>362</td><td>NA</td></tr>\n",
              "\t<tr><td>2020-07-02</td><td>49714</td><td>1186</td><td>17</td><td>1543</td><td>3483677</td><td>202284</td><td>5167</td><td>176965</td><td>1067</td><td>372</td><td>NA</td></tr>\n",
              "\t<tr><td>2020-07-03</td><td>52141</td><td>1172</td><td>19</td><td>1313</td><td>3535818</td><td>203456</td><td>5186</td><td>178278</td><td>1082</td><td>374</td><td>NA</td></tr>\n",
              "\t<tr><td>2020-07-04</td><td>48248</td><td>1154</td><td>20</td><td>1214</td><td>3584066</td><td>204610</td><td>5206</td><td>179492</td><td>1093</td><td>378</td><td>NA</td></tr>\n",
              "\t<tr><td>2020-07-05</td><td>46414</td><td>1148</td><td>19</td><td>1188</td><td>3630480</td><td>205758</td><td>5225</td><td>180680</td><td>1127</td><td>392</td><td>NA</td></tr>\n",
              "\t<tr><td>2020-07-06</td><td>52193</td><td>1086</td><td>16</td><td>2315</td><td>3682673</td><td>206844</td><td>5241</td><td>182995</td><td>1130</td><td>395</td><td>NA</td></tr>\n",
              "\t<tr><td>2020-07-07</td><td>50545</td><td>1053</td><td>19</td><td>2297</td><td>3733218</td><td>207897</td><td>5260</td><td>185292</td><td>1152</td><td>400</td><td>NA</td></tr>\n",
              "\t<tr><td>2020-07-08</td><td>49302</td><td>1041</td><td>22</td><td>2219</td><td>3782520</td><td>208938</td><td>5282</td><td>187511</td><td>1172</td><td>406</td><td>NA</td></tr>\n",
              "\t<tr><td>2020-07-09</td><td>50103</td><td>1024</td><td>18</td><td>2879</td><td>3832623</td><td>209962</td><td>5300</td><td>190390</td><td>1179</td><td>399</td><td>NA</td></tr>\n",
              "\t<tr><td>2020-07-10</td><td>48787</td><td>1003</td><td>23</td><td>1493</td><td>3881410</td><td>210965</td><td>5323</td><td>191883</td><td>1182</td><td>402</td><td>NA</td></tr>\n",
              "\t<tr><td>2020-07-11</td><td>48813</td><td>1016</td><td>21</td><td>1334</td><td>3930223</td><td>211981</td><td>5344</td><td>193217</td><td>1194</td><td>401</td><td>NA</td></tr>\n",
              "\t<tr><td>2020-07-12</td><td>45232</td><td>1012</td><td>19</td><td>1298</td><td>3975455</td><td>212993</td><td>5363</td><td>194515</td><td>1209</td><td>409</td><td>NA</td></tr>\n",
              "\t<tr><td>2020-07-13</td><td>46492</td><td>1008</td><td>19</td><td>1156</td><td>4021947</td><td>214001</td><td>5382</td><td>195671</td><td>1223</td><td>402</td><td>NA</td></tr>\n",
              "\t<tr><td>2020-07-14</td><td>43231</td><td> 992</td><td>20</td><td>1049</td><td>4065178</td><td>214993</td><td>5402</td><td>196720</td><td>1204</td><td>396</td><td>NA</td></tr>\n",
              "\t<tr><td>2020-07-15</td><td>42320</td><td> 947</td><td>17</td><td>1013</td><td>4107498</td><td>215940</td><td>5419</td><td>197733</td><td>1206</td><td>401</td><td>NA</td></tr>\n",
              "\t<tr><td>2020-07-16</td><td>42411</td><td> 933</td><td>21</td><td>1087</td><td>4149909</td><td>216873</td><td>5440</td><td>198820</td><td>1213</td><td>394</td><td>NA</td></tr>\n",
              "\t<tr><td>2020-07-17</td><td>41215</td><td> 926</td><td>18</td><td>1014</td><td>4191124</td><td>217799</td><td>5458</td><td>199834</td><td>1226</td><td>402</td><td>NA</td></tr>\n",
              "\t<tr><td>2020-07-18</td><td>40943</td><td> 918</td><td>17</td><td>1179</td><td>4232067</td><td>218717</td><td>5475</td><td>201013</td><td>1231</td><td>394</td><td>NA</td></tr>\n",
              "\t<tr><td>2020-07-19</td><td>41310</td><td> 924</td><td>16</td><td> 997</td><td>4273377</td><td>219641</td><td>5491</td><td>202010</td><td>1246</td><td>398</td><td>NA</td></tr>\n",
              "\t<tr><td>2020-07-20</td><td>43404</td><td> 931</td><td>17</td><td> 992</td><td>4316781</td><td>220572</td><td>5508</td><td>203002</td><td>1243</td><td>385</td><td>NA</td></tr>\n",
              "</tbody>\n",
              "</table>\n"
            ],
            "text/markdown": "\nA tibble: 132 × 12\n\n| tarih &lt;date&gt; | gunluk_test &lt;dbl&gt; | gunluk_vaka &lt;dbl&gt; | gunluk_olum &lt;dbl&gt; | gunluk_iyilesen &lt;dbl&gt; | toplam_test &lt;dbl&gt; | toplam_vaka &lt;dbl&gt; | toplam_olum &lt;dbl&gt; | toplam_iyilesen &lt;dbl&gt; | yogun_bakim_hasta &lt;dbl&gt; | toplam_intube &lt;dbl&gt; | agir_hasta &lt;dbl&gt; |\n|---|---|---|---|---|---|---|---|---|---|---|---|\n| 2020-03-11 |     0 |    1 |  0 |   0 |      0 |     1 |   0 |    0 |    0 |    0 | NA |\n| 2020-03-12 |     0 |    0 |  0 |   0 |      0 |     1 |   0 |    0 |    0 |    0 | NA |\n| 2020-03-13 |     0 |    4 |  0 |   0 |      0 |     5 |   0 |    0 |    0 |    0 | NA |\n| 2020-03-14 |     0 |    1 |  0 |   0 |      0 |     6 |   0 |    0 |    0 |    0 | NA |\n| 2020-03-15 |     0 |   12 |  1 |   0 |      0 |    18 |   1 |    0 |    0 |    0 | NA |\n| 2020-03-16 |     0 |   29 |  0 |   0 |      0 |    47 |   1 |    0 |    0 |    0 | NA |\n| 2020-03-17 |     0 |   51 |  1 |   0 |   8002 |    98 |   2 |    0 |    0 |    0 | NA |\n| 2020-03-18 |  2015 |   93 |  2 |   0 |  10017 |   191 |   3 |    0 |    0 |    0 | NA |\n| 2020-03-19 |  1981 |  168 |  1 |   0 |  11998 |   359 |   4 |    0 |    0 |    0 | NA |\n| 2020-03-20 |  3656 |  311 |  5 |   0 |  15624 |   670 |   9 |    0 |    0 |    0 | NA |\n| 2020-03-21 |  2952 |  277 | 12 |   0 |  18604 |   947 |  21 |    0 |    0 |    0 | NA |\n| 2020-03-22 |  1738 |  289 |  9 |   0 |  20345 |  1236 |  30 |    0 |    0 |    0 | NA |\n| 2020-03-23 |  3672 |  293 |  7 |   0 |  24017 |  1529 |  37 |    0 |    0 |    0 | NA |\n| 2020-03-24 |  3952 |  343 |  7 |   0 |  27969 |  1872 |  44 |   26 |  136 |  102 | NA |\n| 2020-03-25 |  5035 |  561 | 15 |   0 |  33004 |  2433 |  59 |    0 |    0 |    0 | NA |\n| 2020-03-26 |  7286 | 1196 | 16 |   0 |  40290 |  3629 |  75 |    0 |    0 |    0 | NA |\n| 2020-03-27 |  7533 | 2069 | 17 |  16 |  47823 |  5698 |  92 |   42 |  344 |  241 | NA |\n| 2020-03-28 |  7641 | 1704 | 16 |  28 |  55464 |  7402 | 108 |   70 |  445 |  309 | NA |\n| 2020-03-29 |  9982 | 1815 | 23 |  35 |  65446 |  9217 | 131 |  105 |  568 |  394 | NA |\n| 2020-03-30 | 11535 | 1610 | 37 |  57 |  76981 | 10827 | 168 |  162 |  725 |  523 | NA |\n| 2020-03-31 | 15422 | 2704 | 46 |  81 |  92403 | 13531 | 214 |  243 |  847 |  622 | NA |\n| 2020-04-01 | 14397 | 2148 | 63 |  90 | 106799 | 15679 | 277 |  333 |  979 |  692 | NA |\n| 2020-04-02 | 18757 | 2456 | 79 |  82 | 125556 | 18315 | 356 |  415 | 1101 |  783 | NA |\n| 2020-04-03 | 16160 | 2786 | 69 |  69 | 141716 | 20921 | 425 |  484 | 1251 |  867 | NA |\n| 2020-04-04 | 19664 | 3013 | 76 | 302 | 161380 | 23934 | 501 |  786 | 1311 |  909 | NA |\n| 2020-04-05 | 20065 | 3135 | 73 | 256 | 181446 | 27069 | 574 | 1042 | 1381 |  935 | NA |\n| 2020-04-06 | 21400 | 3148 | 75 | 284 | 202845 | 30217 | 649 | 1326 | 1415 |  966 | NA |\n| 2020-04-07 | 20023 | 3892 | 76 | 256 | 222868 | 34109 | 725 | 1582 | 1474 |  987 | NA |\n| 2020-04-08 | 24900 | 4117 | 87 | 264 | 247768 | 38226 | 812 | 1846 | 1492 |  995 | NA |\n| 2020-04-09 | 28578 | 4056 | 96 | 296 | 276346 | 42282 | 908 | 2142 | 1552 | 1017 | NA |\n| ⋮ | ⋮ | ⋮ | ⋮ | ⋮ | ⋮ | ⋮ | ⋮ | ⋮ | ⋮ | ⋮ | ⋮ |\n| 2020-06-21 | 40496 | 1192 | 23 | 1412 | 2945240 | 187685 | 4950 | 160240 |  803 | 327 | NA |\n| 2020-06-22 | 41413 | 1212 | 24 | 1293 | 2986653 | 188897 | 4974 | 161533 |  846 | 345 | NA |\n| 2020-06-23 | 42982 | 1268 | 27 | 1315 | 3029635 | 190165 | 5001 | 162848 |  893 | 362 | NA |\n| 2020-06-24 | 53486 | 1492 | 24 | 1386 | 3083121 | 191657 | 5025 | 164234 |  914 | 356 | NA |\n| 2020-06-25 | 52303 | 1458 | 21 | 1472 | 3135424 | 193115 | 5046 | 165706 |  941 | 369 | NA |\n| 2020-06-26 | 51198 | 1396 | 19 | 1492 | 3186622 | 194511 | 5065 | 167198 |  963 | 382 | NA |\n| 2020-06-27 | 45213 | 1372 | 17 | 1984 | 3231835 | 195883 | 5082 | 169182 |  984 | 366 | NA |\n| 2020-06-28 | 48309 | 1356 | 15 | 1413 | 3280144 | 197239 | 5097 | 170595 |  996 | 381 | NA |\n| 2020-06-29 | 51014 | 1374 | 18 | 1214 | 3331158 | 198613 | 5115 | 171809 | 1018 | 375 | NA |\n| 2020-06-30 | 50492 | 1293 | 16 | 1302 | 3381650 | 199906 | 5131 | 173111 | 1026 | 368 | NA |\n| 2020-07-01 | 52313 | 1192 | 19 | 2311 | 3433963 | 201098 | 5150 | 175422 | 1035 | 362 | NA |\n| 2020-07-02 | 49714 | 1186 | 17 | 1543 | 3483677 | 202284 | 5167 | 176965 | 1067 | 372 | NA |\n| 2020-07-03 | 52141 | 1172 | 19 | 1313 | 3535818 | 203456 | 5186 | 178278 | 1082 | 374 | NA |\n| 2020-07-04 | 48248 | 1154 | 20 | 1214 | 3584066 | 204610 | 5206 | 179492 | 1093 | 378 | NA |\n| 2020-07-05 | 46414 | 1148 | 19 | 1188 | 3630480 | 205758 | 5225 | 180680 | 1127 | 392 | NA |\n| 2020-07-06 | 52193 | 1086 | 16 | 2315 | 3682673 | 206844 | 5241 | 182995 | 1130 | 395 | NA |\n| 2020-07-07 | 50545 | 1053 | 19 | 2297 | 3733218 | 207897 | 5260 | 185292 | 1152 | 400 | NA |\n| 2020-07-08 | 49302 | 1041 | 22 | 2219 | 3782520 | 208938 | 5282 | 187511 | 1172 | 406 | NA |\n| 2020-07-09 | 50103 | 1024 | 18 | 2879 | 3832623 | 209962 | 5300 | 190390 | 1179 | 399 | NA |\n| 2020-07-10 | 48787 | 1003 | 23 | 1493 | 3881410 | 210965 | 5323 | 191883 | 1182 | 402 | NA |\n| 2020-07-11 | 48813 | 1016 | 21 | 1334 | 3930223 | 211981 | 5344 | 193217 | 1194 | 401 | NA |\n| 2020-07-12 | 45232 | 1012 | 19 | 1298 | 3975455 | 212993 | 5363 | 194515 | 1209 | 409 | NA |\n| 2020-07-13 | 46492 | 1008 | 19 | 1156 | 4021947 | 214001 | 5382 | 195671 | 1223 | 402 | NA |\n| 2020-07-14 | 43231 |  992 | 20 | 1049 | 4065178 | 214993 | 5402 | 196720 | 1204 | 396 | NA |\n| 2020-07-15 | 42320 |  947 | 17 | 1013 | 4107498 | 215940 | 5419 | 197733 | 1206 | 401 | NA |\n| 2020-07-16 | 42411 |  933 | 21 | 1087 | 4149909 | 216873 | 5440 | 198820 | 1213 | 394 | NA |\n| 2020-07-17 | 41215 |  926 | 18 | 1014 | 4191124 | 217799 | 5458 | 199834 | 1226 | 402 | NA |\n| 2020-07-18 | 40943 |  918 | 17 | 1179 | 4232067 | 218717 | 5475 | 201013 | 1231 | 394 | NA |\n| 2020-07-19 | 41310 |  924 | 16 |  997 | 4273377 | 219641 | 5491 | 202010 | 1246 | 398 | NA |\n| 2020-07-20 | 43404 |  931 | 17 |  992 | 4316781 | 220572 | 5508 | 203002 | 1243 | 385 | NA |\n\n",
            "text/latex": "A tibble: 132 × 12\n\\begin{tabular}{llllllllllll}\n tarih & gunluk\\_test & gunluk\\_vaka & gunluk\\_olum & gunluk\\_iyilesen & toplam\\_test & toplam\\_vaka & toplam\\_olum & toplam\\_iyilesen & yogun\\_bakim\\_hasta & toplam\\_intube & agir\\_hasta\\\\\n <date> & <dbl> & <dbl> & <dbl> & <dbl> & <dbl> & <dbl> & <dbl> & <dbl> & <dbl> & <dbl> & <dbl>\\\\\n\\hline\n\t 2020-03-11 &     0 &    1 &  0 &   0 &      0 &     1 &   0 &    0 &    0 &    0 & NA\\\\\n\t 2020-03-12 &     0 &    0 &  0 &   0 &      0 &     1 &   0 &    0 &    0 &    0 & NA\\\\\n\t 2020-03-13 &     0 &    4 &  0 &   0 &      0 &     5 &   0 &    0 &    0 &    0 & NA\\\\\n\t 2020-03-14 &     0 &    1 &  0 &   0 &      0 &     6 &   0 &    0 &    0 &    0 & NA\\\\\n\t 2020-03-15 &     0 &   12 &  1 &   0 &      0 &    18 &   1 &    0 &    0 &    0 & NA\\\\\n\t 2020-03-16 &     0 &   29 &  0 &   0 &      0 &    47 &   1 &    0 &    0 &    0 & NA\\\\\n\t 2020-03-17 &     0 &   51 &  1 &   0 &   8002 &    98 &   2 &    0 &    0 &    0 & NA\\\\\n\t 2020-03-18 &  2015 &   93 &  2 &   0 &  10017 &   191 &   3 &    0 &    0 &    0 & NA\\\\\n\t 2020-03-19 &  1981 &  168 &  1 &   0 &  11998 &   359 &   4 &    0 &    0 &    0 & NA\\\\\n\t 2020-03-20 &  3656 &  311 &  5 &   0 &  15624 &   670 &   9 &    0 &    0 &    0 & NA\\\\\n\t 2020-03-21 &  2952 &  277 & 12 &   0 &  18604 &   947 &  21 &    0 &    0 &    0 & NA\\\\\n\t 2020-03-22 &  1738 &  289 &  9 &   0 &  20345 &  1236 &  30 &    0 &    0 &    0 & NA\\\\\n\t 2020-03-23 &  3672 &  293 &  7 &   0 &  24017 &  1529 &  37 &    0 &    0 &    0 & NA\\\\\n\t 2020-03-24 &  3952 &  343 &  7 &   0 &  27969 &  1872 &  44 &   26 &  136 &  102 & NA\\\\\n\t 2020-03-25 &  5035 &  561 & 15 &   0 &  33004 &  2433 &  59 &    0 &    0 &    0 & NA\\\\\n\t 2020-03-26 &  7286 & 1196 & 16 &   0 &  40290 &  3629 &  75 &    0 &    0 &    0 & NA\\\\\n\t 2020-03-27 &  7533 & 2069 & 17 &  16 &  47823 &  5698 &  92 &   42 &  344 &  241 & NA\\\\\n\t 2020-03-28 &  7641 & 1704 & 16 &  28 &  55464 &  7402 & 108 &   70 &  445 &  309 & NA\\\\\n\t 2020-03-29 &  9982 & 1815 & 23 &  35 &  65446 &  9217 & 131 &  105 &  568 &  394 & NA\\\\\n\t 2020-03-30 & 11535 & 1610 & 37 &  57 &  76981 & 10827 & 168 &  162 &  725 &  523 & NA\\\\\n\t 2020-03-31 & 15422 & 2704 & 46 &  81 &  92403 & 13531 & 214 &  243 &  847 &  622 & NA\\\\\n\t 2020-04-01 & 14397 & 2148 & 63 &  90 & 106799 & 15679 & 277 &  333 &  979 &  692 & NA\\\\\n\t 2020-04-02 & 18757 & 2456 & 79 &  82 & 125556 & 18315 & 356 &  415 & 1101 &  783 & NA\\\\\n\t 2020-04-03 & 16160 & 2786 & 69 &  69 & 141716 & 20921 & 425 &  484 & 1251 &  867 & NA\\\\\n\t 2020-04-04 & 19664 & 3013 & 76 & 302 & 161380 & 23934 & 501 &  786 & 1311 &  909 & NA\\\\\n\t 2020-04-05 & 20065 & 3135 & 73 & 256 & 181446 & 27069 & 574 & 1042 & 1381 &  935 & NA\\\\\n\t 2020-04-06 & 21400 & 3148 & 75 & 284 & 202845 & 30217 & 649 & 1326 & 1415 &  966 & NA\\\\\n\t 2020-04-07 & 20023 & 3892 & 76 & 256 & 222868 & 34109 & 725 & 1582 & 1474 &  987 & NA\\\\\n\t 2020-04-08 & 24900 & 4117 & 87 & 264 & 247768 & 38226 & 812 & 1846 & 1492 &  995 & NA\\\\\n\t 2020-04-09 & 28578 & 4056 & 96 & 296 & 276346 & 42282 & 908 & 2142 & 1552 & 1017 & NA\\\\\n\t ⋮ & ⋮ & ⋮ & ⋮ & ⋮ & ⋮ & ⋮ & ⋮ & ⋮ & ⋮ & ⋮ & ⋮\\\\\n\t 2020-06-21 & 40496 & 1192 & 23 & 1412 & 2945240 & 187685 & 4950 & 160240 &  803 & 327 & NA\\\\\n\t 2020-06-22 & 41413 & 1212 & 24 & 1293 & 2986653 & 188897 & 4974 & 161533 &  846 & 345 & NA\\\\\n\t 2020-06-23 & 42982 & 1268 & 27 & 1315 & 3029635 & 190165 & 5001 & 162848 &  893 & 362 & NA\\\\\n\t 2020-06-24 & 53486 & 1492 & 24 & 1386 & 3083121 & 191657 & 5025 & 164234 &  914 & 356 & NA\\\\\n\t 2020-06-25 & 52303 & 1458 & 21 & 1472 & 3135424 & 193115 & 5046 & 165706 &  941 & 369 & NA\\\\\n\t 2020-06-26 & 51198 & 1396 & 19 & 1492 & 3186622 & 194511 & 5065 & 167198 &  963 & 382 & NA\\\\\n\t 2020-06-27 & 45213 & 1372 & 17 & 1984 & 3231835 & 195883 & 5082 & 169182 &  984 & 366 & NA\\\\\n\t 2020-06-28 & 48309 & 1356 & 15 & 1413 & 3280144 & 197239 & 5097 & 170595 &  996 & 381 & NA\\\\\n\t 2020-06-29 & 51014 & 1374 & 18 & 1214 & 3331158 & 198613 & 5115 & 171809 & 1018 & 375 & NA\\\\\n\t 2020-06-30 & 50492 & 1293 & 16 & 1302 & 3381650 & 199906 & 5131 & 173111 & 1026 & 368 & NA\\\\\n\t 2020-07-01 & 52313 & 1192 & 19 & 2311 & 3433963 & 201098 & 5150 & 175422 & 1035 & 362 & NA\\\\\n\t 2020-07-02 & 49714 & 1186 & 17 & 1543 & 3483677 & 202284 & 5167 & 176965 & 1067 & 372 & NA\\\\\n\t 2020-07-03 & 52141 & 1172 & 19 & 1313 & 3535818 & 203456 & 5186 & 178278 & 1082 & 374 & NA\\\\\n\t 2020-07-04 & 48248 & 1154 & 20 & 1214 & 3584066 & 204610 & 5206 & 179492 & 1093 & 378 & NA\\\\\n\t 2020-07-05 & 46414 & 1148 & 19 & 1188 & 3630480 & 205758 & 5225 & 180680 & 1127 & 392 & NA\\\\\n\t 2020-07-06 & 52193 & 1086 & 16 & 2315 & 3682673 & 206844 & 5241 & 182995 & 1130 & 395 & NA\\\\\n\t 2020-07-07 & 50545 & 1053 & 19 & 2297 & 3733218 & 207897 & 5260 & 185292 & 1152 & 400 & NA\\\\\n\t 2020-07-08 & 49302 & 1041 & 22 & 2219 & 3782520 & 208938 & 5282 & 187511 & 1172 & 406 & NA\\\\\n\t 2020-07-09 & 50103 & 1024 & 18 & 2879 & 3832623 & 209962 & 5300 & 190390 & 1179 & 399 & NA\\\\\n\t 2020-07-10 & 48787 & 1003 & 23 & 1493 & 3881410 & 210965 & 5323 & 191883 & 1182 & 402 & NA\\\\\n\t 2020-07-11 & 48813 & 1016 & 21 & 1334 & 3930223 & 211981 & 5344 & 193217 & 1194 & 401 & NA\\\\\n\t 2020-07-12 & 45232 & 1012 & 19 & 1298 & 3975455 & 212993 & 5363 & 194515 & 1209 & 409 & NA\\\\\n\t 2020-07-13 & 46492 & 1008 & 19 & 1156 & 4021947 & 214001 & 5382 & 195671 & 1223 & 402 & NA\\\\\n\t 2020-07-14 & 43231 &  992 & 20 & 1049 & 4065178 & 214993 & 5402 & 196720 & 1204 & 396 & NA\\\\\n\t 2020-07-15 & 42320 &  947 & 17 & 1013 & 4107498 & 215940 & 5419 & 197733 & 1206 & 401 & NA\\\\\n\t 2020-07-16 & 42411 &  933 & 21 & 1087 & 4149909 & 216873 & 5440 & 198820 & 1213 & 394 & NA\\\\\n\t 2020-07-17 & 41215 &  926 & 18 & 1014 & 4191124 & 217799 & 5458 & 199834 & 1226 & 402 & NA\\\\\n\t 2020-07-18 & 40943 &  918 & 17 & 1179 & 4232067 & 218717 & 5475 & 201013 & 1231 & 394 & NA\\\\\n\t 2020-07-19 & 41310 &  924 & 16 &  997 & 4273377 & 219641 & 5491 & 202010 & 1246 & 398 & NA\\\\\n\t 2020-07-20 & 43404 &  931 & 17 &  992 & 4316781 & 220572 & 5508 & 203002 & 1243 & 385 & NA\\\\\n\\end{tabular}\n",
            "text/plain": [
              "    tarih      gunluk_test gunluk_vaka gunluk_olum gunluk_iyilesen toplam_test\n",
              "1   2020-03-11     0          1         0            0                  0     \n",
              "2   2020-03-12     0          0         0            0                  0     \n",
              "3   2020-03-13     0          4         0            0                  0     \n",
              "4   2020-03-14     0          1         0            0                  0     \n",
              "5   2020-03-15     0         12         1            0                  0     \n",
              "6   2020-03-16     0         29         0            0                  0     \n",
              "7   2020-03-17     0         51         1            0               8002     \n",
              "8   2020-03-18  2015         93         2            0              10017     \n",
              "9   2020-03-19  1981        168         1            0              11998     \n",
              "10  2020-03-20  3656        311         5            0              15624     \n",
              "11  2020-03-21  2952        277        12            0              18604     \n",
              "12  2020-03-22  1738        289         9            0              20345     \n",
              "13  2020-03-23  3672        293         7            0              24017     \n",
              "14  2020-03-24  3952        343         7            0              27969     \n",
              "15  2020-03-25  5035        561        15            0              33004     \n",
              "16  2020-03-26  7286       1196        16            0              40290     \n",
              "17  2020-03-27  7533       2069        17           16              47823     \n",
              "18  2020-03-28  7641       1704        16           28              55464     \n",
              "19  2020-03-29  9982       1815        23           35              65446     \n",
              "20  2020-03-30 11535       1610        37           57              76981     \n",
              "21  2020-03-31 15422       2704        46           81              92403     \n",
              "22  2020-04-01 14397       2148        63           90             106799     \n",
              "23  2020-04-02 18757       2456        79           82             125556     \n",
              "24  2020-04-03 16160       2786        69           69             141716     \n",
              "25  2020-04-04 19664       3013        76          302             161380     \n",
              "26  2020-04-05 20065       3135        73          256             181446     \n",
              "27  2020-04-06 21400       3148        75          284             202845     \n",
              "28  2020-04-07 20023       3892        76          256             222868     \n",
              "29  2020-04-08 24900       4117        87          264             247768     \n",
              "30  2020-04-09 28578       4056        96          296             276346     \n",
              "⋮   ⋮          ⋮           ⋮           ⋮           ⋮               ⋮          \n",
              "103 2020-06-21 40496       1192        23          1412            2945240    \n",
              "104 2020-06-22 41413       1212        24          1293            2986653    \n",
              "105 2020-06-23 42982       1268        27          1315            3029635    \n",
              "106 2020-06-24 53486       1492        24          1386            3083121    \n",
              "107 2020-06-25 52303       1458        21          1472            3135424    \n",
              "108 2020-06-26 51198       1396        19          1492            3186622    \n",
              "109 2020-06-27 45213       1372        17          1984            3231835    \n",
              "110 2020-06-28 48309       1356        15          1413            3280144    \n",
              "111 2020-06-29 51014       1374        18          1214            3331158    \n",
              "112 2020-06-30 50492       1293        16          1302            3381650    \n",
              "113 2020-07-01 52313       1192        19          2311            3433963    \n",
              "114 2020-07-02 49714       1186        17          1543            3483677    \n",
              "115 2020-07-03 52141       1172        19          1313            3535818    \n",
              "116 2020-07-04 48248       1154        20          1214            3584066    \n",
              "117 2020-07-05 46414       1148        19          1188            3630480    \n",
              "118 2020-07-06 52193       1086        16          2315            3682673    \n",
              "119 2020-07-07 50545       1053        19          2297            3733218    \n",
              "120 2020-07-08 49302       1041        22          2219            3782520    \n",
              "121 2020-07-09 50103       1024        18          2879            3832623    \n",
              "122 2020-07-10 48787       1003        23          1493            3881410    \n",
              "123 2020-07-11 48813       1016        21          1334            3930223    \n",
              "124 2020-07-12 45232       1012        19          1298            3975455    \n",
              "125 2020-07-13 46492       1008        19          1156            4021947    \n",
              "126 2020-07-14 43231        992        20          1049            4065178    \n",
              "127 2020-07-15 42320        947        17          1013            4107498    \n",
              "128 2020-07-16 42411        933        21          1087            4149909    \n",
              "129 2020-07-17 41215        926        18          1014            4191124    \n",
              "130 2020-07-18 40943        918        17          1179            4232067    \n",
              "131 2020-07-19 41310        924        16           997            4273377    \n",
              "132 2020-07-20 43404        931        17           992            4316781    \n",
              "    toplam_vaka toplam_olum toplam_iyilesen yogun_bakim_hasta toplam_intube\n",
              "1       1         0            0               0                 0         \n",
              "2       1         0            0               0                 0         \n",
              "3       5         0            0               0                 0         \n",
              "4       6         0            0               0                 0         \n",
              "5      18         1            0               0                 0         \n",
              "6      47         1            0               0                 0         \n",
              "7      98         2            0               0                 0         \n",
              "8     191         3            0               0                 0         \n",
              "9     359         4            0               0                 0         \n",
              "10    670         9            0               0                 0         \n",
              "11    947        21            0               0                 0         \n",
              "12   1236        30            0               0                 0         \n",
              "13   1529        37            0               0                 0         \n",
              "14   1872        44           26             136               102         \n",
              "15   2433        59            0               0                 0         \n",
              "16   3629        75            0               0                 0         \n",
              "17   5698        92           42             344               241         \n",
              "18   7402       108           70             445               309         \n",
              "19   9217       131          105             568               394         \n",
              "20  10827       168          162             725               523         \n",
              "21  13531       214          243             847               622         \n",
              "22  15679       277          333             979               692         \n",
              "23  18315       356          415            1101               783         \n",
              "24  20921       425          484            1251               867         \n",
              "25  23934       501          786            1311               909         \n",
              "26  27069       574         1042            1381               935         \n",
              "27  30217       649         1326            1415               966         \n",
              "28  34109       725         1582            1474               987         \n",
              "29  38226       812         1846            1492               995         \n",
              "30  42282       908         2142            1552              1017         \n",
              "⋮   ⋮           ⋮           ⋮               ⋮                 ⋮            \n",
              "103 187685      4950        160240           803              327          \n",
              "104 188897      4974        161533           846              345          \n",
              "105 190165      5001        162848           893              362          \n",
              "106 191657      5025        164234           914              356          \n",
              "107 193115      5046        165706           941              369          \n",
              "108 194511      5065        167198           963              382          \n",
              "109 195883      5082        169182           984              366          \n",
              "110 197239      5097        170595           996              381          \n",
              "111 198613      5115        171809          1018              375          \n",
              "112 199906      5131        173111          1026              368          \n",
              "113 201098      5150        175422          1035              362          \n",
              "114 202284      5167        176965          1067              372          \n",
              "115 203456      5186        178278          1082              374          \n",
              "116 204610      5206        179492          1093              378          \n",
              "117 205758      5225        180680          1127              392          \n",
              "118 206844      5241        182995          1130              395          \n",
              "119 207897      5260        185292          1152              400          \n",
              "120 208938      5282        187511          1172              406          \n",
              "121 209962      5300        190390          1179              399          \n",
              "122 210965      5323        191883          1182              402          \n",
              "123 211981      5344        193217          1194              401          \n",
              "124 212993      5363        194515          1209              409          \n",
              "125 214001      5382        195671          1223              402          \n",
              "126 214993      5402        196720          1204              396          \n",
              "127 215940      5419        197733          1206              401          \n",
              "128 216873      5440        198820          1213              394          \n",
              "129 217799      5458        199834          1226              402          \n",
              "130 218717      5475        201013          1231              394          \n",
              "131 219641      5491        202010          1246              398          \n",
              "132 220572      5508        203002          1243              385          \n",
              "    agir_hasta\n",
              "1   NA        \n",
              "2   NA        \n",
              "3   NA        \n",
              "4   NA        \n",
              "5   NA        \n",
              "6   NA        \n",
              "7   NA        \n",
              "8   NA        \n",
              "9   NA        \n",
              "10  NA        \n",
              "11  NA        \n",
              "12  NA        \n",
              "13  NA        \n",
              "14  NA        \n",
              "15  NA        \n",
              "16  NA        \n",
              "17  NA        \n",
              "18  NA        \n",
              "19  NA        \n",
              "20  NA        \n",
              "21  NA        \n",
              "22  NA        \n",
              "23  NA        \n",
              "24  NA        \n",
              "25  NA        \n",
              "26  NA        \n",
              "27  NA        \n",
              "28  NA        \n",
              "29  NA        \n",
              "30  NA        \n",
              "⋮   ⋮         \n",
              "103 NA        \n",
              "104 NA        \n",
              "105 NA        \n",
              "106 NA        \n",
              "107 NA        \n",
              "108 NA        \n",
              "109 NA        \n",
              "110 NA        \n",
              "111 NA        \n",
              "112 NA        \n",
              "113 NA        \n",
              "114 NA        \n",
              "115 NA        \n",
              "116 NA        \n",
              "117 NA        \n",
              "118 NA        \n",
              "119 NA        \n",
              "120 NA        \n",
              "121 NA        \n",
              "122 NA        \n",
              "123 NA        \n",
              "124 NA        \n",
              "125 NA        \n",
              "126 NA        \n",
              "127 NA        \n",
              "128 NA        \n",
              "129 NA        \n",
              "130 NA        \n",
              "131 NA        \n",
              "132 NA        "
            ]
          },
          "metadata": {}
        },
        {
          "output_type": "error",
          "ename": "ERROR",
          "evalue": "ignored",
          "traceback": [
            "Error in eval(expr, envir, enclos): object 'tarih' not found\nTraceback:\n",
            "1. filter(df_covid, tarih == \"2020-07-20\")"
          ]
        }
      ]
    },
    {
      "cell_type": "code",
      "source": [
        "install.packages(\"dplyr\")\n",
        "library(dplyr)"
      ],
      "metadata": {
        "colab": {
          "base_uri": "https://localhost:8080/"
        },
        "id": "AkiVXAohGM7D",
        "outputId": "856220be-b63c-483f-a533-fc8619d2d401"
      },
      "execution_count": null,
      "outputs": [
        {
          "output_type": "stream",
          "name": "stderr",
          "text": [
            "Installing package into ‘/usr/local/lib/R/site-library’\n",
            "(as ‘lib’ is unspecified)\n",
            "\n",
            "\n",
            "Attaching package: ‘dplyr’\n",
            "\n",
            "\n",
            "The following objects are masked from ‘package:stats’:\n",
            "\n",
            "    filter, lag\n",
            "\n",
            "\n",
            "The following objects are masked from ‘package:base’:\n",
            "\n",
            "    intersect, setdiff, setequal, union\n",
            "\n",
            "\n"
          ]
        }
      ]
    },
    {
      "cell_type": "markdown",
      "source": [],
      "metadata": {
        "id": "UfRxLzwrE2Vo"
      }
    },
    {
      "cell_type": "code",
      "source": [
        "filter(df_covid, tarih == \"2020-07-20\" )"
      ],
      "metadata": {
        "colab": {
          "base_uri": "https://localhost:8080/",
          "height": 165
        },
        "id": "EB9unXs5GWVM",
        "outputId": "6c4504d8-b38f-459b-9488-2ec01cf33b7e"
      },
      "execution_count": null,
      "outputs": [
        {
          "output_type": "display_data",
          "data": {
            "text/html": [
              "<table class=\"dataframe\">\n",
              "<caption>A spec_tbl_df: 1 × 12</caption>\n",
              "<thead>\n",
              "\t<tr><th scope=col>tarih</th><th scope=col>gunluk_test</th><th scope=col>gunluk_vaka</th><th scope=col>gunluk_olum</th><th scope=col>gunluk_iyilesen</th><th scope=col>toplam_test</th><th scope=col>toplam_vaka</th><th scope=col>toplam_olum</th><th scope=col>toplam_iyilesen</th><th scope=col>yogun_bakim_hasta</th><th scope=col>toplam_intube</th><th scope=col>agir_hasta</th></tr>\n",
              "\t<tr><th scope=col>&lt;date&gt;</th><th scope=col>&lt;dbl&gt;</th><th scope=col>&lt;dbl&gt;</th><th scope=col>&lt;dbl&gt;</th><th scope=col>&lt;dbl&gt;</th><th scope=col>&lt;dbl&gt;</th><th scope=col>&lt;dbl&gt;</th><th scope=col>&lt;dbl&gt;</th><th scope=col>&lt;dbl&gt;</th><th scope=col>&lt;dbl&gt;</th><th scope=col>&lt;dbl&gt;</th><th scope=col>&lt;dbl&gt;</th></tr>\n",
              "</thead>\n",
              "<tbody>\n",
              "\t<tr><td>2020-07-20</td><td>43404</td><td>931</td><td>17</td><td>992</td><td>4316781</td><td>220572</td><td>5508</td><td>203002</td><td>1243</td><td>385</td><td>NA</td></tr>\n",
              "</tbody>\n",
              "</table>\n"
            ],
            "text/markdown": "\nA spec_tbl_df: 1 × 12\n\n| tarih &lt;date&gt; | gunluk_test &lt;dbl&gt; | gunluk_vaka &lt;dbl&gt; | gunluk_olum &lt;dbl&gt; | gunluk_iyilesen &lt;dbl&gt; | toplam_test &lt;dbl&gt; | toplam_vaka &lt;dbl&gt; | toplam_olum &lt;dbl&gt; | toplam_iyilesen &lt;dbl&gt; | yogun_bakim_hasta &lt;dbl&gt; | toplam_intube &lt;dbl&gt; | agir_hasta &lt;dbl&gt; |\n|---|---|---|---|---|---|---|---|---|---|---|---|\n| 2020-07-20 | 43404 | 931 | 17 | 992 | 4316781 | 220572 | 5508 | 203002 | 1243 | 385 | NA |\n\n",
            "text/latex": "A spec\\_tbl\\_df: 1 × 12\n\\begin{tabular}{llllllllllll}\n tarih & gunluk\\_test & gunluk\\_vaka & gunluk\\_olum & gunluk\\_iyilesen & toplam\\_test & toplam\\_vaka & toplam\\_olum & toplam\\_iyilesen & yogun\\_bakim\\_hasta & toplam\\_intube & agir\\_hasta\\\\\n <date> & <dbl> & <dbl> & <dbl> & <dbl> & <dbl> & <dbl> & <dbl> & <dbl> & <dbl> & <dbl> & <dbl>\\\\\n\\hline\n\t 2020-07-20 & 43404 & 931 & 17 & 992 & 4316781 & 220572 & 5508 & 203002 & 1243 & 385 & NA\\\\\n\\end{tabular}\n",
            "text/plain": [
              "  tarih      gunluk_test gunluk_vaka gunluk_olum gunluk_iyilesen toplam_test\n",
              "1 2020-07-20 43404       931         17          992             4316781    \n",
              "  toplam_vaka toplam_olum toplam_iyilesen yogun_bakim_hasta toplam_intube\n",
              "1 220572      5508        203002          1243              385          \n",
              "  agir_hasta\n",
              "1 NA        "
            ]
          },
          "metadata": {}
        }
      ]
    },
    {
      "cell_type": "code",
      "source": [
        "yeni_df <- filter(df_covid, tarih > \"2020-08-01\")\n",
        "boxplot(yeni_df$"
      ],
      "metadata": {
        "id": "OfXR0PUAGp3L"
      },
      "execution_count": null,
      "outputs": []
    },
    {
      "cell_type": "markdown",
      "source": [
        "ctrl + shift + m pipe operatörü\n"
      ],
      "metadata": {
        "id": "CDZZ3Z84K9Fx"
      }
    }
  ]
}